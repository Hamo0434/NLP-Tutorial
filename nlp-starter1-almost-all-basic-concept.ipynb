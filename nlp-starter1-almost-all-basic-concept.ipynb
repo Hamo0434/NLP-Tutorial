{
 "cells": [
  {
   "cell_type": "markdown",
   "id": "840c4572",
   "metadata": {
    "papermill": {
     "duration": 0.094663,
     "end_time": "2022-04-28T06:45:46.063452",
     "exception": false,
     "start_time": "2022-04-28T06:45:45.968789",
     "status": "completed"
    },
    "tags": []
   },
   "source": [
    "# <h1><center><b> U.S. Patent Phrase to Phrase Matching</b></center></h1>\n",
    "\n",
    "\n",
    "\n",
    "\n",
    "\n",
    "\n",
    "\n",
    " \n",
    "\n",
    "\n",
    "### ***I am trying in Coming weeks (below the content) and finally apply the concepts in Competition data | If anyone interested in the process suggest your idea and topics guys***\n",
    "\n",
    "## **Part 1_Process**\n",
    "\n",
    "### **1. Data Cleaning and Preprocessing:**\n",
    "\n",
    "- Data-Punctuations,stopwords,number,caseconversion (Remove noise)\n",
    "- word normalization(stemming,tokenization,lemmatization,POS,NER)\n",
    "- word standartization(tables,regularexp)--> Clean text data\n",
    "\n",
    "### **2. Text Representation and word_Embedding:**\n",
    "\n",
    "- BOW\n",
    "- TF-IDF\n",
    "- Word-Embedding (word2vec,doc2vec,Glove)\n",
    "- TSNE visualization\n",
    "\n",
    "## **Part 2_Process**\n",
    "\n",
    "### **3. Transformer**\n",
    "\n",
    "- BERT, DEBERT, ROBERT, HUGGINGFACE and more process coming soon ....\n",
    "\n",
    "----------------------------------------------------------------------------------------------------------------------------------------"
   ]
  },
  {
   "cell_type": "code",
   "execution_count": 2,
   "id": "dd44a3ae",
   "metadata": {},
   "outputs": [
    {
     "name": "stdout",
     "output_type": "stream",
     "text": [
      "Requirement already satisfied: nltk in c:\\users\\elhamd pc\\anaconda3\\lib\\site-packages (3.7)\n",
      "Requirement already satisfied: joblib in c:\\users\\elhamd pc\\anaconda3\\lib\\site-packages (from nltk) (1.1.0)\n",
      "Requirement already satisfied: regex>=2021.8.3 in c:\\users\\elhamd pc\\anaconda3\\lib\\site-packages (from nltk) (2022.7.9)\n",
      "Requirement already satisfied: click in c:\\users\\elhamd pc\\anaconda3\\lib\\site-packages (from nltk) (8.0.4)\n",
      "Requirement already satisfied: tqdm in c:\\users\\elhamd pc\\anaconda3\\lib\\site-packages (from nltk) (4.64.1)\n",
      "Requirement already satisfied: colorama in c:\\users\\elhamd pc\\anaconda3\\lib\\site-packages (from click->nltk) (0.4.6)\n",
      "Note: you may need to restart the kernel to use updated packages.\n"
     ]
    }
   ],
   "source": [
    "pip install nltk"
   ]
  },
  {
   "cell_type": "markdown",
   "id": "f4d6db69",
   "metadata": {
    "papermill": {
     "duration": 0.09295,
     "end_time": "2022-04-28T06:45:46.251720",
     "exception": false,
     "start_time": "2022-04-28T06:45:46.158770",
     "status": "completed"
    },
    "tags": []
   },
   "source": [
    "# **Steps: D/D**\n",
    "\n",
    "### ***Import the Necessay library (Choose one NLTK,Spacy,etc....) But I'm choosing NLTK***\n",
    "\n",
    "## ***-->Part 1<--***\n",
    "\n",
    "### 1. Tokenization (Word and Sentence)\n",
    "\n",
    "### 2. Stopword\n",
    "\n",
    "### 3. Stemming\n",
    "\n",
    "### 4. Part of speech tagging\n",
    "\n",
    "### 5. Chunking\n",
    "\n",
    "### 6. Chinking\n",
    "\n",
    "### 7. Name Entity Recognition\n",
    "\n",
    "### 8. Lemmatization\n",
    "\n",
    "### 9. Corpora\n",
    "\n",
    "### 10. WordNet\n",
    "\n",
    "### 11. Word_Semantic_Similariy\n",
    "\n",
    "### 12. Apply above knowledge in one Movie review data-----> Text_Classification (Simple_NLTK_Data & NaiveBayes algo and predict output)\n",
    "\n",
    "### 13. Text Representation (One_Hot_Encoder, BOW, BOW-NGram, TF-IDF, WordEmbed(FastText, Glove, wor2vec, doc2vec))\n",
    "\n",
    "### 13. TSNE,PCA visualization\n"
   ]
  },
  {
   "cell_type": "code",
   "execution_count": 18,
   "id": "a65c29be",
   "metadata": {
    "execution": {
     "iopub.execute_input": "2022-04-28T06:45:46.447510Z",
     "iopub.status.busy": "2022-04-28T06:45:46.446728Z",
     "iopub.status.idle": "2022-04-28T06:45:47.659924Z",
     "shell.execute_reply": "2022-04-28T06:45:47.659306Z",
     "shell.execute_reply.started": "2022-04-28T06:01:04.233199Z"
    },
    "papermill": {
     "duration": 1.315712,
     "end_time": "2022-04-28T06:45:47.660063",
     "exception": false,
     "start_time": "2022-04-28T06:45:46.344351",
     "status": "completed"
    },
    "tags": []
   },
   "outputs": [
    {
     "name": "stderr",
     "output_type": "stream",
     "text": [
      "[nltk_data] Downloading package punkt to C:\\Users\\Elhamd\n",
      "[nltk_data]     Pc\\AppData\\Roaming\\nltk_data...\n",
      "[nltk_data]   Unzipping tokenizers\\punkt.zip.\n"
     ]
    },
    {
     "data": {
      "text/plain": [
       "True"
      ]
     },
     "execution_count": 18,
     "metadata": {},
     "output_type": "execute_result"
    }
   ],
   "source": [
    "import numpy as np\n",
    "import pandas as pd\n",
    "import nltk\n",
    "from nltk.tokenize import sent_tokenize, word_tokenize\n",
    "import nltk\n",
    "nltk.download('punkt')\n"
   ]
  },
  {
   "cell_type": "code",
   "execution_count": 4,
   "id": "a45f5a42",
   "metadata": {
    "execution": {
     "iopub.execute_input": "2022-04-28T06:45:47.859771Z",
     "iopub.status.busy": "2022-04-28T06:45:47.858789Z",
     "iopub.status.idle": "2022-04-28T06:45:47.860616Z",
     "shell.execute_reply": "2022-04-28T06:45:47.861090Z",
     "shell.execute_reply.started": "2022-04-28T06:01:04.70492Z"
    },
    "papermill": {
     "duration": 0.102487,
     "end_time": "2022-04-28T06:45:47.861238",
     "exception": false,
     "start_time": "2022-04-28T06:45:47.758751",
     "status": "completed"
    },
    "tags": []
   },
   "outputs": [],
   "source": [
    "ex_text = \"Hello Mr. VK I am there, how are you doing today? The weather is great and Nltk is awesome. The Nltk is super compare to other library. Its oops based developed.\""
   ]
  },
  {
   "cell_type": "markdown",
   "id": "a934d3e5",
   "metadata": {
    "papermill": {
     "duration": 0.097934,
     "end_time": "2022-04-28T06:45:48.086385",
     "exception": false,
     "start_time": "2022-04-28T06:45:47.988451",
     "status": "completed"
    },
    "tags": []
   },
   "source": [
    "# **1. Tokenizing - word tokenizers|sentence tokenizers**\n",
    "## **lexicon and corporas**\n",
    "\n",
    "- corpus -> A corpus can be defined as a collection of text documents. It can be thought as just a bunch of text files in a directory,               often alongside many other directories of text files\n",
    "- corpora -> body of text, ex: medical journals, presidential speeches, english language\n",
    "- lexicon -> words and their means\n",
    "- Token -> Each \"entity\" that is a part of whatever was split up based on rules. For examples, each word is a token when a sentence is             \"tokenized\" into words. Each sentence can also be a token, if you tokenized the sentences out of a paragraph."
   ]
  },
  {
   "cell_type": "markdown",
   "id": "8345c793",
   "metadata": {
    "papermill": {
     "duration": 0.094127,
     "end_time": "2022-04-28T06:45:48.276971",
     "exception": false,
     "start_time": "2022-04-28T06:45:48.182844",
     "status": "completed"
    },
    "tags": []
   },
   "source": [
    "## **Sentence_Tokenize**"
   ]
  },
  {
   "cell_type": "code",
   "execution_count": 19,
   "id": "d4d2fe7d",
   "metadata": {
    "execution": {
     "iopub.execute_input": "2022-04-28T06:45:48.517150Z",
     "iopub.status.busy": "2022-04-28T06:45:48.516426Z",
     "iopub.status.idle": "2022-04-28T06:45:48.532518Z",
     "shell.execute_reply": "2022-04-28T06:45:48.533105Z",
     "shell.execute_reply.started": "2022-04-28T06:01:05.219048Z"
    },
    "papermill": {
     "duration": 0.160577,
     "end_time": "2022-04-28T06:45:48.533300",
     "exception": false,
     "start_time": "2022-04-28T06:45:48.372723",
     "status": "completed"
    },
    "tags": []
   },
   "outputs": [
    {
     "name": "stdout",
     "output_type": "stream",
     "text": [
      "['Hello Mr. VK I am there, how are you doing today?', 'The weather is great and Nltk is awesome.', 'The Nltk is super compare to other library.', 'Its oops based developed.']\n"
     ]
    }
   ],
   "source": [
    "print(sent_tokenize(ex_text))"
   ]
  },
  {
   "cell_type": "markdown",
   "id": "05ea679e",
   "metadata": {
    "papermill": {
     "duration": 0.094484,
     "end_time": "2022-04-28T06:45:48.723866",
     "exception": false,
     "start_time": "2022-04-28T06:45:48.629382",
     "status": "completed"
    },
    "tags": []
   },
   "source": [
    "## **Word_Tokenize**"
   ]
  },
  {
   "cell_type": "code",
   "execution_count": 20,
   "id": "4a232e7b",
   "metadata": {
    "execution": {
     "iopub.execute_input": "2022-04-28T06:45:48.925310Z",
     "iopub.status.busy": "2022-04-28T06:45:48.924440Z",
     "iopub.status.idle": "2022-04-28T06:45:48.933372Z",
     "shell.execute_reply": "2022-04-28T06:45:48.934422Z",
     "shell.execute_reply.started": "2022-04-28T06:01:05.528861Z"
    },
    "papermill": {
     "duration": 0.114411,
     "end_time": "2022-04-28T06:45:48.934702",
     "exception": false,
     "start_time": "2022-04-28T06:45:48.820291",
     "status": "completed"
    },
    "tags": []
   },
   "outputs": [
    {
     "name": "stdout",
     "output_type": "stream",
     "text": [
      "['Hello', 'Mr.', 'VK', 'I', 'am', 'there', ',', 'how', 'are', 'you', 'doing', 'today', '?', 'The', 'weather', 'is', 'great', 'and', 'Nltk', 'is', 'awesome', '.', 'The', 'Nltk', 'is', 'super', 'compare', 'to', 'other', 'library', '.', 'Its', 'oops', 'based', 'developed', '.']\n"
     ]
    }
   ],
   "source": [
    "print(word_tokenize(ex_text))"
   ]
  },
  {
   "cell_type": "code",
   "execution_count": 21,
   "id": "5ca6e061",
   "metadata": {
    "execution": {
     "iopub.execute_input": "2022-04-28T06:45:49.187935Z",
     "iopub.status.busy": "2022-04-28T06:45:49.187083Z",
     "iopub.status.idle": "2022-04-28T06:45:49.193288Z",
     "shell.execute_reply": "2022-04-28T06:45:49.192811Z",
     "shell.execute_reply.started": "2022-04-28T06:01:05.855631Z"
    },
    "papermill": {
     "duration": 0.114869,
     "end_time": "2022-04-28T06:45:49.193411",
     "exception": false,
     "start_time": "2022-04-28T06:45:49.078542",
     "status": "completed"
    },
    "tags": []
   },
   "outputs": [
    {
     "name": "stdout",
     "output_type": "stream",
     "text": [
      "Hello\n",
      "Mr.\n",
      "VK\n",
      "I\n",
      "am\n",
      "there\n",
      ",\n",
      "how\n",
      "are\n",
      "you\n",
      "doing\n",
      "today\n",
      "?\n",
      "The\n",
      "weather\n",
      "is\n",
      "great\n",
      "and\n",
      "Nltk\n",
      "is\n",
      "awesome\n",
      ".\n",
      "The\n",
      "Nltk\n",
      "is\n",
      "super\n",
      "compare\n",
      "to\n",
      "other\n",
      "library\n",
      ".\n",
      "Its\n",
      "oops\n",
      "based\n",
      "developed\n",
      ".\n"
     ]
    }
   ],
   "source": [
    "for i in word_tokenize(ex_text):\n",
    "    print(i)"
   ]
  },
  {
   "cell_type": "markdown",
   "id": "ceb2d0e1",
   "metadata": {
    "papermill": {
     "duration": 0.095372,
     "end_time": "2022-04-28T06:45:49.386657",
     "exception": false,
     "start_time": "2022-04-28T06:45:49.291285",
     "status": "completed"
    },
    "tags": []
   },
   "source": [
    "# **2. Stopwords**\n",
    "\n",
    "Stopwords are the words in any language which does not add much meaning to a sentence. They can safely be ignored without sacrificing the meaning of the sentence. For some search engines, these are some of the most common, short function words, such as the, is, at, which, and on. In this case, stop words can cause problems when searching for phrases that include them, particularly in names such as “The Who” or “Take That”.\n"
   ]
  },
  {
   "cell_type": "code",
   "execution_count": 24,
   "id": "765a9903",
   "metadata": {
    "execution": {
     "iopub.execute_input": "2022-04-28T06:45:49.582064Z",
     "iopub.status.busy": "2022-04-28T06:45:49.581193Z",
     "iopub.status.idle": "2022-04-28T06:45:49.583488Z",
     "shell.execute_reply": "2022-04-28T06:45:49.582950Z",
     "shell.execute_reply.started": "2022-04-28T06:01:06.167666Z"
    },
    "papermill": {
     "duration": 0.100868,
     "end_time": "2022-04-28T06:45:49.583601",
     "exception": false,
     "start_time": "2022-04-28T06:45:49.482733",
     "status": "completed"
    },
    "tags": []
   },
   "outputs": [
    {
     "name": "stderr",
     "output_type": "stream",
     "text": [
      "[nltk_data] Downloading package stopwords to C:\\Users\\Elhamd\n",
      "[nltk_data]     Pc\\AppData\\Roaming\\nltk_data...\n",
      "[nltk_data]   Unzipping corpora\\stopwords.zip.\n"
     ]
    },
    {
     "data": {
      "text/plain": [
       "True"
      ]
     },
     "execution_count": 24,
     "metadata": {},
     "output_type": "execute_result"
    }
   ],
   "source": [
    "from nltk.corpus import stopwords\n",
    "nltk.download('stopwords')"
   ]
  },
  {
   "cell_type": "code",
   "execution_count": 25,
   "id": "227cce26",
   "metadata": {
    "execution": {
     "iopub.execute_input": "2022-04-28T06:45:49.776443Z",
     "iopub.status.busy": "2022-04-28T06:45:49.775847Z",
     "iopub.status.idle": "2022-04-28T06:45:49.783730Z",
     "shell.execute_reply": "2022-04-28T06:45:49.783128Z",
     "shell.execute_reply.started": "2022-04-28T06:01:06.490364Z"
    },
    "papermill": {
     "duration": 0.106039,
     "end_time": "2022-04-28T06:45:49.783874",
     "exception": false,
     "start_time": "2022-04-28T06:45:49.677835",
     "status": "completed"
    },
    "tags": []
   },
   "outputs": [
    {
     "name": "stdout",
     "output_type": "stream",
     "text": [
      "{'mightn', 'hers', 'we', 'into', 'such', 'having', 'had', 'they', 'when', 'all', 'from', 'under', 're', 'other', 'than', 'very', 'then', \"you're\", \"that'll\", 'the', 'which', 'ours', 'but', 'yourselves', 'hadn', 'those', 'is', 'd', 'below', 'me', 'you', 'myself', \"aren't\", 'wasn', 'of', 'by', 'doing', 'above', 'been', 'haven', 'before', \"hasn't\", 'll', 'y', 'who', \"you'd\", \"mightn't\", 'that', 'up', 'on', 's', 'each', 'herself', 'hasn', 'himself', 'i', 'be', \"isn't\", 'yours', 'against', 'an', 'she', 'ma', 'a', 'same', 've', 'because', \"didn't\", 'again', 'why', 'aren', 'as', 'do', \"she's\", 'doesn', 't', 'its', \"haven't\", 'were', 'or', 'didn', 'won', 'weren', 'his', 'isn', 'can', 'has', 'further', 'have', 'whom', 'own', 'does', 'their', 'to', 'out', \"hadn't\", 'for', 'no', 'if', 'so', \"needn't\", 'shouldn', 'now', 'about', 'nor', 'theirs', \"won't\", \"weren't\", 'between', \"should've\", 'her', 'am', 'being', 'them', 'while', 'here', \"shan't\", 'some', 'both', 'few', 'down', 'through', \"don't\", 'did', 'what', 'themselves', 'more', 'not', 'will', 'how', 'ain', 'he', 'are', 'these', 'and', 'during', 'mustn', \"mustn't\", \"wouldn't\", 'm', 'needn', 'off', 'itself', 'just', 'my', 'don', 'o', 'your', 'any', 'until', \"you've\", 'him', 'only', 'this', \"doesn't\", 'wouldn', 'with', \"shouldn't\", 'once', 'couldn', \"couldn't\", 'there', 'too', 'our', 'ourselves', 'in', \"you'll\", 'after', 'it', 'where', 'over', \"it's\", 'shan', 'most', 'should', 'at', 'yourself', \"wasn't\", 'was'}\n"
     ]
    }
   ],
   "source": [
    "stop_words = set(stopwords.words(\"english\"))\n",
    "print(stop_words)"
   ]
  },
  {
   "cell_type": "code",
   "execution_count": 26,
   "id": "022067c7",
   "metadata": {
    "execution": {
     "iopub.execute_input": "2022-04-28T06:45:50.047676Z",
     "iopub.status.busy": "2022-04-28T06:45:50.046783Z",
     "iopub.status.idle": "2022-04-28T06:45:50.051463Z",
     "shell.execute_reply": "2022-04-28T06:45:50.052571Z",
     "shell.execute_reply.started": "2022-04-28T06:01:06.866524Z"
    },
    "papermill": {
     "duration": 0.174627,
     "end_time": "2022-04-28T06:45:50.052913",
     "exception": false,
     "start_time": "2022-04-28T06:45:49.878286",
     "status": "completed"
    },
    "tags": []
   },
   "outputs": [
    {
     "name": "stdout",
     "output_type": "stream",
     "text": [
      "['Hello', 'Mr.', 'VK', 'I', ',', 'today', '?', 'The', 'weather', 'great', 'Nltk', 'awesome', '.', 'The', 'Nltk', 'super', 'compare', 'library', '.', 'Its', 'oops', 'based', 'developed', '.']\n"
     ]
    }
   ],
   "source": [
    "words = word_tokenize(ex_text)\n",
    "\n",
    "filtered_sentence =[]\n",
    "\n",
    "for w in words:\n",
    "    if w not in stop_words:\n",
    "        filtered_sentence.append(w)\n",
    "        \n",
    "print(filtered_sentence)\n",
    "\n",
    "#filtered_sentence = [w for w in words if not w in stop_words]"
   ]
  },
  {
   "cell_type": "markdown",
   "id": "f12c1037",
   "metadata": {
    "papermill": {
     "duration": 0.15841,
     "end_time": "2022-04-28T06:45:50.371439",
     "exception": false,
     "start_time": "2022-04-28T06:45:50.213029",
     "status": "completed"
    },
    "tags": []
   },
   "source": [
    "# **3. Stemming**\n",
    "\n",
    "The idea of stemming is a sort of normalizing method. Many variations of words carry the same meaning, other than when tense is involved.\n",
    "\n",
    "The reason why we stem is to shorten the lookup, and normalize sentences.\n",
    "\n",
    "\n",
    "\n",
    "eg.. \n",
    "i was taking a ride in the car.\n",
    "i was riding in the car.\n",
    "\n",
    "Porterstemmer(1979)"
   ]
  },
  {
   "cell_type": "code",
   "execution_count": 29,
   "id": "7e8e93a1",
   "metadata": {
    "execution": {
     "iopub.execute_input": "2022-04-28T06:45:50.613635Z",
     "iopub.status.busy": "2022-04-28T06:45:50.612824Z",
     "iopub.status.idle": "2022-04-28T06:45:50.615034Z",
     "shell.execute_reply": "2022-04-28T06:45:50.615435Z",
     "shell.execute_reply.started": "2022-04-28T06:01:07.247445Z"
    },
    "papermill": {
     "duration": 0.100812,
     "end_time": "2022-04-28T06:45:50.615576",
     "exception": false,
     "start_time": "2022-04-28T06:45:50.514764",
     "status": "completed"
    },
    "tags": []
   },
   "outputs": [],
   "source": [
    "from nltk.stem import PorterStemmer\n",
    "from nltk.tokenize import word_tokenize\n"
   ]
  },
  {
   "cell_type": "code",
   "execution_count": 30,
   "id": "08194c56",
   "metadata": {
    "execution": {
     "iopub.execute_input": "2022-04-28T06:45:50.816038Z",
     "iopub.status.busy": "2022-04-28T06:45:50.815386Z",
     "iopub.status.idle": "2022-04-28T06:45:50.818520Z",
     "shell.execute_reply": "2022-04-28T06:45:50.819090Z",
     "shell.execute_reply.started": "2022-04-28T06:01:07.577055Z"
    },
    "papermill": {
     "duration": 0.104293,
     "end_time": "2022-04-28T06:45:50.819275",
     "exception": false,
     "start_time": "2022-04-28T06:45:50.714982",
     "status": "completed"
    },
    "tags": []
   },
   "outputs": [
    {
     "name": "stdout",
     "output_type": "stream",
     "text": [
      "python\n",
      "python\n",
      "python\n",
      "python\n",
      "pythonli\n"
     ]
    }
   ],
   "source": [
    "ps = PorterStemmer()\n",
    "\n",
    "ex_words = [\"python\",\"pythoner\",\"pythoning\",\"pythoned\",\"pythonly\"]\n",
    "\n",
    "for s in ex_words:\n",
    "    print(ps.stem(s))"
   ]
  },
  {
   "cell_type": "code",
   "execution_count": 31,
   "id": "3c8e3813",
   "metadata": {
    "execution": {
     "iopub.execute_input": "2022-04-28T06:45:51.025777Z",
     "iopub.status.busy": "2022-04-28T06:45:51.024528Z",
     "iopub.status.idle": "2022-04-28T06:45:51.030343Z",
     "shell.execute_reply": "2022-04-28T06:45:51.030979Z",
     "shell.execute_reply.started": "2022-04-28T06:01:07.912965Z"
    },
    "papermill": {
     "duration": 0.113284,
     "end_time": "2022-04-28T06:45:51.031169",
     "exception": false,
     "start_time": "2022-04-28T06:45:50.917885",
     "status": "completed"
    },
    "tags": []
   },
   "outputs": [
    {
     "name": "stdout",
     "output_type": "stream",
     "text": [
      "it\n",
      "is\n",
      "veri\n",
      "import\n",
      "to\n",
      "be\n",
      "pythoniy\n",
      "while\n",
      "you\n",
      "are\n",
      "python\n",
      "with\n",
      "python\n",
      ".\n",
      "all\n",
      "python\n",
      "have\n",
      "python\n",
      "poorli\n",
      "atleast\n",
      "onc\n",
      ".\n"
     ]
    }
   ],
   "source": [
    "n_t = \"It is very important to be pythoniy while you are pythoning with python. All pythoners have pythoned poorly atleast once.\"\n",
    "\n",
    "words = word_tokenize(n_t)\n",
    "\n",
    "for st in  words:\n",
    "    print(ps.stem(st))"
   ]
  },
  {
   "cell_type": "markdown",
   "id": "056fdd13",
   "metadata": {
    "papermill": {
     "duration": 0.098423,
     "end_time": "2022-04-28T06:45:51.227096",
     "exception": false,
     "start_time": "2022-04-28T06:45:51.128673",
     "status": "completed"
    },
    "tags": []
   },
   "source": [
    "# **4. Part of speech tagging**\n",
    "\n",
    "This means labeling words in a sentence as nouns, adjectives, verbs...etc. Even more impressive, it also labels by tense, and more. Here's a list of the tags, what they mean, and some examples:\n",
    "\n",
    "#### **POS tag list:**\n",
    "\n",
    "- CC\tcoordinating conjunction\n",
    "- CD\tcardinal digit\n",
    "- DT\tdeterminer\n",
    "- EX\texistential there (like: \"there is\" ... think of it like \"there exists\")\n",
    "- FW\tforeign word\n",
    "- IN\tpreposition/subordinating conjunction\n",
    "- JJ\tadjective\t'big'\n",
    "- JJR\tadjective, comparative\t'bigger'\n",
    "- JJS\tadjective, superlative\t'biggest'\n",
    "- LS\tlist marker\t1)\n",
    "- MD\tmodal\tcould, will\n",
    "- NN\tnoun, singular 'desk'\n",
    "- NNS\tnoun plural\t'desks'\n",
    "- NNP\tproper noun, singular\t'Harrison'\n",
    "- NNPS\tproper noun, plural\t'Americans'\n",
    "- PDT\tpredeterminer\t'all the kids'\n",
    "- POS\tpossessive ending\tparent\\'s\n",
    "- PRP\tpersonal pronoun\tI, he, she\n",
    "- RB\tadverb\tvery, silently,\n",
    "- RBR\tadverb, comparative\tbetter\n",
    "- RBS\tadverb, superlative\tbest\n",
    "- RP\tparticle\tgive up\n",
    "- TO\tto\tgo 'to' the store.\n",
    "- UH\tinterjection\terrrrrrrrm\n",
    "- VB\tverb, base form\ttake\n",
    "- VBD\tverb, past tense\ttook\n",
    "- VBG\tverb, gerund/present participle\ttaking\n",
    "- VBN\tverb, past participle\ttaken\n",
    "- VBP\tverb, sing. present, non-3d\ttake\n",
    "- VBZ\tverb, 3rd person sing. present\ttakes\n",
    "- WDT\twh-determiner\twhich\n",
    "- WP\twh-pronoun\twho, what\n",
    "- WRB\twh-abverb\twhere, when"
   ]
  },
  {
   "cell_type": "code",
   "execution_count": 32,
   "id": "496ba282",
   "metadata": {
    "execution": {
     "iopub.execute_input": "2022-04-28T06:45:51.428924Z",
     "iopub.status.busy": "2022-04-28T06:45:51.428017Z",
     "iopub.status.idle": "2022-04-28T06:45:51.429899Z",
     "shell.execute_reply": "2022-04-28T06:45:51.430368Z",
     "shell.execute_reply.started": "2022-04-28T06:01:08.294438Z"
    },
    "papermill": {
     "duration": 0.103978,
     "end_time": "2022-04-28T06:45:51.430500",
     "exception": false,
     "start_time": "2022-04-28T06:45:51.326522",
     "status": "completed"
    },
    "tags": []
   },
   "outputs": [],
   "source": [
    "from nltk.corpus import state_union\n",
    "from nltk.tokenize import PunktSentenceTokenizer"
   ]
  },
  {
   "cell_type": "code",
   "execution_count": 33,
   "id": "04cebc31",
   "metadata": {
    "execution": {
     "iopub.execute_input": "2022-04-28T06:45:51.630014Z",
     "iopub.status.busy": "2022-04-28T06:45:51.629027Z",
     "iopub.status.idle": "2022-04-28T06:45:51.630911Z",
     "shell.execute_reply": "2022-04-28T06:45:51.631482Z",
     "shell.execute_reply.started": "2022-04-28T06:01:08.672623Z"
    },
    "papermill": {
     "duration": 0.103206,
     "end_time": "2022-04-28T06:45:51.631624",
     "exception": false,
     "start_time": "2022-04-28T06:45:51.528418",
     "status": "completed"
    },
    "tags": []
   },
   "outputs": [],
   "source": [
    "train_text = \"Engineers, as practitioners of engineering, are professionals who invent, design, analyze, build and test machines, complex systems, structures, gadgets and materials to fulfill functional objectives and requirements while considering the limitations imposed by practicality, regulation, safety and cost.[1][2] The word engineer (Latin ingeniator[3]) is derived from the Latin words ingeniare (to create, generate, contrive, devise and ingenium) (cleverness).[4][5] The foundational qualifications of an engineer typically include a four-year bachelor's degree in an engineering discipline, or in some jurisdictions, a master's degree in an engineering discipline plus four to six years of peer-reviewed professional practice (culminating in a project report or thesis) and passage of engineering board examinations.The work of engineers forms the link between scientific discoveries and their subsequent applications to human and business needs and quality of life.[1]\"\n",
    "sample_text = \"Neuro-linguistic programming (NLP) is a pseudoscientific approach to communication, personal development, and psychotherapy created by Richard Bandler and John Grinder in California, United States, in the 1970s. NLP's creators claim there is a connection between neurological processes (neuro-), language (linguistic) and behavioral patterns learned through experience (programming), and that these can be changed to achieve specific goals in life.[1][2]: 2  Bandler and Grinder also claim that NLP methodology can model the skills of exceptional people, allowing anyone to acquire those skills.[3]: 5–6 [4] They claim as well that, often in a single session, NLP can treat problems such as phobias, depression, tic disorders, psychosomatic illnesses, near-sightedness,[5] allergy, the common cold,[Note 1] and learning disorders.[7][8] NLP has been adopted by some hypnotherapists and also by companies that run seminars marketed as leadership training to businesses and government agencies.[9][10]There is no scientific evidence supporting the claims made by NLP advocates, and it has been discredited as a pseudoscience.[11][12][13] Scientific reviews state that NLP is based on outdated metaphors of how the brain works that are inconsistent with current neurological theory and contain numerous factual errors.[10][14] Reviews also found that all of the supportive research on NLP contained significant methodological flaws and that there were three times as many studies of a much higher quality that failed to reproduce the extraordinary claims made by Bandler, Grinder, and other NLP practitioners.[12][13]\""
   ]
  },
  {
   "cell_type": "code",
   "execution_count": 34,
   "id": "c8d546e2",
   "metadata": {
    "execution": {
     "iopub.execute_input": "2022-04-28T06:45:51.830422Z",
     "iopub.status.busy": "2022-04-28T06:45:51.829547Z",
     "iopub.status.idle": "2022-04-28T06:45:51.831502Z",
     "shell.execute_reply": "2022-04-28T06:45:51.831923Z",
     "shell.execute_reply.started": "2022-04-28T06:01:08.97186Z"
    },
    "papermill": {
     "duration": 0.104412,
     "end_time": "2022-04-28T06:45:51.832054",
     "exception": false,
     "start_time": "2022-04-28T06:45:51.727642",
     "status": "completed"
    },
    "tags": []
   },
   "outputs": [],
   "source": [
    "# train_text = state_union.raw('train_text.txt')\n",
    "# sample_text = state_union.raw('sample_text.txt')"
   ]
  },
  {
   "cell_type": "code",
   "execution_count": 35,
   "id": "5bcebe15",
   "metadata": {
    "execution": {
     "iopub.execute_input": "2022-04-28T06:45:52.034792Z",
     "iopub.status.busy": "2022-04-28T06:45:52.033992Z",
     "iopub.status.idle": "2022-04-28T06:45:52.036712Z",
     "shell.execute_reply": "2022-04-28T06:45:52.036256Z",
     "shell.execute_reply.started": "2022-04-28T06:01:09.414733Z"
    },
    "papermill": {
     "duration": 0.106447,
     "end_time": "2022-04-28T06:45:52.036826",
     "exception": false,
     "start_time": "2022-04-28T06:45:51.930379",
     "status": "completed"
    },
    "tags": []
   },
   "outputs": [],
   "source": [
    "custom_sent_tokenizer = PunktSentenceTokenizer(train_text)\n",
    "tokenized = custom_sent_tokenizer.tokenize(sample_text)"
   ]
  },
  {
   "cell_type": "code",
   "execution_count": 37,
   "id": "7fc1c281",
   "metadata": {
    "_kg_hide-output": true,
    "execution": {
     "iopub.execute_input": "2022-04-28T06:45:52.239196Z",
     "iopub.status.busy": "2022-04-28T06:45:52.238538Z",
     "iopub.status.idle": "2022-04-28T06:45:52.372002Z",
     "shell.execute_reply": "2022-04-28T06:45:52.371387Z",
     "shell.execute_reply.started": "2022-04-28T06:01:09.736974Z"
    },
    "papermill": {
     "duration": 0.238956,
     "end_time": "2022-04-28T06:45:52.372178",
     "exception": false,
     "start_time": "2022-04-28T06:45:52.133222",
     "status": "completed"
    },
    "tags": []
   },
   "outputs": [
    {
     "name": "stderr",
     "output_type": "stream",
     "text": [
      "[nltk_data] Downloading package averaged_perceptron_tagger to\n",
      "[nltk_data]     C:\\Users\\Elhamd Pc\\AppData\\Roaming\\nltk_data...\n"
     ]
    },
    {
     "name": "stdout",
     "output_type": "stream",
     "text": [
      "[('Neuro-linguistic', 'JJ'), ('programming', 'NN'), ('(', '('), ('NLP', 'NNP'), (')', ')'), ('is', 'VBZ'), ('a', 'DT'), ('pseudoscientific', 'JJ'), ('approach', 'NN'), ('to', 'TO'), ('communication', 'NN'), (',', ','), ('personal', 'JJ'), ('development', 'NN'), (',', ','), ('and', 'CC'), ('psychotherapy', 'RB'), ('created', 'VBN'), ('by', 'IN'), ('Richard', 'NNP'), ('Bandler', 'NNP'), ('and', 'CC'), ('John', 'NNP'), ('Grinder', 'NNP'), ('in', 'IN'), ('California', 'NNP'), (',', ','), ('United', 'NNP'), ('States', 'NNPS'), (',', ','), ('in', 'IN'), ('the', 'DT'), ('1970s', 'CD'), ('.', '.')]\n",
      "[('NLP', 'NNP'), (\"'s\", 'POS'), ('creators', 'NNS'), ('claim', 'VBP'), ('there', 'EX'), ('is', 'VBZ'), ('a', 'DT'), ('connection', 'NN'), ('between', 'IN'), ('neurological', 'JJ'), ('processes', 'NNS'), ('(', '('), ('neuro-', 'JJ'), (')', ')'), (',', ','), ('language', 'NN'), ('(', '('), ('linguistic', 'JJ'), (')', ')'), ('and', 'CC'), ('behavioral', 'JJ'), ('patterns', 'NNS'), ('learned', 'VBD'), ('through', 'IN'), ('experience', 'NN'), ('(', '('), ('programming', 'VBG'), (')', ')'), (',', ','), ('and', 'CC'), ('that', 'IN'), ('these', 'DT'), ('can', 'MD'), ('be', 'VB'), ('changed', 'VBN'), ('to', 'TO'), ('achieve', 'VB'), ('specific', 'JJ'), ('goals', 'NNS'), ('in', 'IN'), ('life', 'NN'), ('.', '.')]\n",
      "[('[', 'RB'), ('1', 'CD'), (']', 'JJ'), ('[', '$'), ('2', 'CD'), (']', 'NN'), (':', ':'), ('2', 'CD'), ('Bandler', 'NNP'), ('and', 'CC'), ('Grinder', 'NNP'), ('also', 'RB'), ('claim', 'VBP'), ('that', 'IN'), ('NLP', 'NNP'), ('methodology', 'NN'), ('can', 'MD'), ('model', 'VB'), ('the', 'DT'), ('skills', 'NNS'), ('of', 'IN'), ('exceptional', 'JJ'), ('people', 'NNS'), (',', ','), ('allowing', 'VBG'), ('anyone', 'NN'), ('to', 'TO'), ('acquire', 'VB'), ('those', 'DT'), ('skills', 'NNS'), ('.', '.')]\n",
      "[('[', 'RB'), ('3', 'CD'), (']', 'NNS'), (':', ':'), ('5–6', 'CD'), ('[', '$'), ('4', 'CD'), (']', 'NN'), ('They', 'PRP'), ('claim', 'VBP'), ('as', 'RB'), ('well', 'RB'), ('that', 'IN'), (',', ','), ('often', 'RB'), ('in', 'IN'), ('a', 'DT'), ('single', 'JJ'), ('session', 'NN'), (',', ','), ('NLP', 'NNP'), ('can', 'MD'), ('treat', 'VB'), ('problems', 'NNS'), ('such', 'JJ'), ('as', 'IN'), ('phobias', 'NNS'), (',', ','), ('depression', 'NN'), (',', ','), ('tic', 'JJ'), ('disorders', 'NNS'), (',', ','), ('psychosomatic', 'JJ'), ('illnesses', 'NNS'), (',', ','), ('near-sightedness', 'JJ'), (',', ','), ('[', 'JJ'), ('5', 'CD'), (']', 'NN'), ('allergy', 'NN'), (',', ','), ('the', 'DT'), ('common', 'JJ'), ('cold', 'NN'), (',', ','), ('[', 'NNP'), ('Note', 'NNP'), ('1', 'CD'), (']', 'NN'), ('and', 'CC'), ('learning', 'NN'), ('disorders', 'NNS'), ('.', '.')]\n",
      "[('[', 'RB'), ('7', 'CD'), (']', 'JJ'), ('[', '$'), ('8', 'CD'), (']', 'NNP'), ('NLP', 'NNP'), ('has', 'VBZ'), ('been', 'VBN'), ('adopted', 'VBN'), ('by', 'IN'), ('some', 'DT'), ('hypnotherapists', 'NNS'), ('and', 'CC'), ('also', 'RB'), ('by', 'IN'), ('companies', 'NNS'), ('that', 'WDT'), ('run', 'VBP'), ('seminars', 'RB'), ('marketed', 'VBN'), ('as', 'IN'), ('leadership', 'NN'), ('training', 'NN'), ('to', 'TO'), ('businesses', 'NNS'), ('and', 'CC'), ('government', 'NN'), ('agencies', 'NNS'), ('.', '.')]\n",
      "[('[', 'RB'), ('9', 'CD'), (']', 'JJ'), ('[', '$'), ('10', 'CD'), (']', 'NN'), ('There', 'EX'), ('is', 'VBZ'), ('no', 'DT'), ('scientific', 'JJ'), ('evidence', 'NN'), ('supporting', 'VBG'), ('the', 'DT'), ('claims', 'NNS'), ('made', 'VBN'), ('by', 'IN'), ('NLP', 'NNP'), ('advocates', 'NNS'), (',', ','), ('and', 'CC'), ('it', 'PRP'), ('has', 'VBZ'), ('been', 'VBN'), ('discredited', 'VBN'), ('as', 'IN'), ('a', 'DT'), ('pseudoscience', 'NN'), ('.', '.')]\n",
      "[('[', 'RB'), ('11', 'CD'), (']', 'JJ'), ('[', '$'), ('12', 'CD'), (']', 'NNP'), ('[', 'VBD'), ('13', 'CD'), (']', 'NNP'), ('Scientific', 'NNP'), ('reviews', 'VBZ'), ('state', 'NN'), ('that', 'IN'), ('NLP', 'NNP'), ('is', 'VBZ'), ('based', 'VBN'), ('on', 'IN'), ('outdated', 'JJ'), ('metaphors', 'NNS'), ('of', 'IN'), ('how', 'WRB'), ('the', 'DT'), ('brain', 'NN'), ('works', 'VBZ'), ('that', 'WDT'), ('are', 'VBP'), ('inconsistent', 'JJ'), ('with', 'IN'), ('current', 'JJ'), ('neurological', 'JJ'), ('theory', 'NN'), ('and', 'CC'), ('contain', 'VBP'), ('numerous', 'JJ'), ('factual', 'JJ'), ('errors', 'NNS'), ('.', '.')]\n",
      "[('[', 'RB'), ('10', 'CD'), (']', 'JJ'), ('[', '$'), ('14', 'CD'), (']', 'NNP'), ('Reviews', 'NNP'), ('also', 'RB'), ('found', 'VBD'), ('that', 'IN'), ('all', 'DT'), ('of', 'IN'), ('the', 'DT'), ('supportive', 'JJ'), ('research', 'NN'), ('on', 'IN'), ('NLP', 'NNP'), ('contained', 'VBD'), ('significant', 'JJ'), ('methodological', 'JJ'), ('flaws', 'NNS'), ('and', 'CC'), ('that', 'IN'), ('there', 'EX'), ('were', 'VBD'), ('three', 'CD'), ('times', 'NNS'), ('as', 'IN'), ('many', 'JJ'), ('studies', 'NNS'), ('of', 'IN'), ('a', 'DT'), ('much', 'JJ'), ('higher', 'JJR'), ('quality', 'NN'), ('that', 'WDT'), ('failed', 'VBD'), ('to', 'TO'), ('reproduce', 'VB'), ('the', 'DT'), ('extraordinary', 'JJ'), ('claims', 'NNS'), ('made', 'VBN'), ('by', 'IN'), ('Bandler', 'NNP'), (',', ','), ('Grinder', 'NNP'), (',', ','), ('and', 'CC'), ('other', 'JJ'), ('NLP', 'NNP'), ('practitioners', 'NNS'), ('.', '.')]\n",
      "[('[', 'RB'), ('12', 'CD'), (']', 'JJ'), ('[', '$'), ('13', 'CD'), (']', 'NN')]\n"
     ]
    },
    {
     "name": "stderr",
     "output_type": "stream",
     "text": [
      "[nltk_data]   Unzipping taggers\\averaged_perceptron_tagger.zip.\n"
     ]
    }
   ],
   "source": [
    "nltk.download('averaged_perceptron_tagger')\n",
    "def process_content():\n",
    "    try:\n",
    "        for i in tokenized:\n",
    "            words = nltk.word_tokenize(i)\n",
    "            tagged = nltk.pos_tag(words)\n",
    "            print(tagged)\n",
    "\n",
    "    except Exception as e:\n",
    "        print(str(e))\n",
    "\n",
    "\n",
    "process_content()"
   ]
  },
  {
   "cell_type": "markdown",
   "id": "a31eb6e1",
   "metadata": {
    "papermill": {
     "duration": 0.096348,
     "end_time": "2022-04-28T06:45:52.564987",
     "exception": false,
     "start_time": "2022-04-28T06:45:52.468639",
     "status": "completed"
    },
    "tags": []
   },
   "source": [
    "# **5. Chunking**\n",
    "\n",
    "Now that we know the parts of speech, we can do what is called chunking, and group words into hopefully meaningful chunks. One of the main goals of chunking is to group into what are known as \"noun phrases.\" These are phrases of one or more words that contain a noun, maybe some descriptive words, maybe a verb, and maybe something like an adverb. The idea is to group nouns with the words that are in relation to them.\n",
    "\n",
    "In order to chunk, we combine the part of speech tags with regular expressions. Mainly from regular expressions, we are going to utilize the following:"
   ]
  },
  {
   "cell_type": "markdown",
   "id": "0d595405",
   "metadata": {
    "papermill": {
     "duration": 0.096407,
     "end_time": "2022-04-28T06:45:52.757262",
     "exception": false,
     "start_time": "2022-04-28T06:45:52.660855",
     "status": "completed"
    },
    "tags": []
   },
   "source": [
    "## **Regular expression**\n",
    "\n",
    "Here is a quick cheat sheet for various rules in regular expressions:\n",
    "\n",
    "### ***Identifiers:***\n",
    "\n",
    "- \\d = any number\n",
    "- \\D = anything but a number\n",
    "- \\s = space\n",
    "- \\S = anything but a space\n",
    "- \\w = any letter\n",
    "- \\W = anything but a letter\n",
    "- . = any character, except for a new line\n",
    "- \\b = space around whole words\n",
    "- \\. = period. must use backslash, because . normally means any character.\n",
    "\n",
    "### ***Modifiers:***\n",
    "\n",
    "- {1,3} = for digits, u expect 1-3 counts of digits, or \"places\"\n",
    "- + = match 1 or more\n",
    "- ? = match 0 or 1 repetitions.\n",
    "- * = match 0 or MORE repetitions\n",
    "- ^ = matches start of a string\n",
    "- | = matches either/or. Example x|y = will match either x or y\n",
    "- [] = range, or \"variance\"\n",
    "- {x} = expect to see this amount of the preceding code.\n",
    "- {x,y} = expect to see this x-y amounts of the precedng code\n",
    "\n",
    "### ***White Space Charts:***\n",
    "\n",
    "- \\n = new line\n",
    "- \\s = space\n",
    "- \\t = tab\n",
    "- \\e = escape\n",
    "- \\f = form feed\n",
    "- \\r = carriage return\n",
    "\n",
    "***Characters to REMEMBER TO ESCAPE IF USED!***\n",
    "\n",
    "- . + * ? [ ] $ ^ ( ) { } | \\\n",
    "\n",
    "### ***Brackets:***\n",
    "\n",
    "- [] = quant[ia]tative = will find either quantitative, or quantatative.\n",
    "- [a-z] = return any lowercase letter a-z\n",
    "- [1-5a-qA-Z] = return all numbers 1-5, lowercase letters a-q and uppercase A-Z\n",
    "- \"\"\"<RB.?>* = \"0 or more of any tense of adverb,\" followed by:\n",
    "- <VB.?>* = \"0 or more of any tense of verb,\" followed by:\n",
    "- <NNP>+ = \"One or more proper nouns,\" followed by\n",
    "- <NN>? = \"zero or one singular noun.\"\n",
    "- \"\"\""
   ]
  },
  {
   "cell_type": "code",
   "execution_count": 38,
   "id": "10679299",
   "metadata": {
    "_kg_hide-output": true,
    "execution": {
     "iopub.execute_input": "2022-04-28T06:45:52.963409Z",
     "iopub.status.busy": "2022-04-28T06:45:52.962575Z",
     "iopub.status.idle": "2022-04-28T06:45:52.996612Z",
     "shell.execute_reply": "2022-04-28T06:45:52.997809Z",
     "shell.execute_reply.started": "2022-04-28T06:01:10.059332Z"
    },
    "papermill": {
     "duration": 0.139491,
     "end_time": "2022-04-28T06:45:52.998219",
     "exception": false,
     "start_time": "2022-04-28T06:45:52.858728",
     "status": "completed"
    },
    "tags": []
   },
   "outputs": [
    {
     "name": "stdout",
     "output_type": "stream",
     "text": [
      "(S\n",
      "  Neuro-linguistic/JJ\n",
      "  programming/NN\n",
      "  (/(\n",
      "  (Chunk NLP/NNP)\n",
      "  )/)\n",
      "  is/VBZ\n",
      "  a/DT\n",
      "  pseudoscientific/JJ\n",
      "  approach/NN\n",
      "  to/TO\n",
      "  communication/NN\n",
      "  ,/,\n",
      "  personal/JJ\n",
      "  development/NN\n",
      "  ,/,\n",
      "  and/CC\n",
      "  psychotherapy/RB\n",
      "  created/VBN\n",
      "  by/IN\n",
      "  (Chunk Richard/NNP Bandler/NNP)\n",
      "  and/CC\n",
      "  (Chunk John/NNP Grinder/NNP)\n",
      "  in/IN\n",
      "  (Chunk California/NNP)\n",
      "  ,/,\n",
      "  (Chunk United/NNP)\n",
      "  States/NNPS\n",
      "  ,/,\n",
      "  in/IN\n",
      "  the/DT\n",
      "  1970s/CD\n",
      "  ./.)\n",
      "(S\n",
      "  (Chunk NLP/NNP)\n",
      "  's/POS\n",
      "  creators/NNS\n",
      "  claim/VBP\n",
      "  there/EX\n",
      "  is/VBZ\n",
      "  a/DT\n",
      "  connection/NN\n",
      "  between/IN\n",
      "  neurological/JJ\n",
      "  processes/NNS\n",
      "  (/(\n",
      "  neuro-/JJ\n",
      "  )/)\n",
      "  ,/,\n",
      "  language/NN\n",
      "  (/(\n",
      "  linguistic/JJ\n",
      "  )/)\n",
      "  and/CC\n",
      "  behavioral/JJ\n",
      "  patterns/NNS\n",
      "  learned/VBD\n",
      "  through/IN\n",
      "  experience/NN\n",
      "  (/(\n",
      "  programming/VBG\n",
      "  )/)\n",
      "  ,/,\n",
      "  and/CC\n",
      "  that/IN\n",
      "  these/DT\n",
      "  can/MD\n",
      "  be/VB\n",
      "  changed/VBN\n",
      "  to/TO\n",
      "  achieve/VB\n",
      "  specific/JJ\n",
      "  goals/NNS\n",
      "  in/IN\n",
      "  life/NN\n",
      "  ./.)\n",
      "(S\n",
      "  [/RB\n",
      "  1/CD\n",
      "  ]/JJ\n",
      "  [/$\n",
      "  2/CD\n",
      "  ]/NN\n",
      "  :/:\n",
      "  2/CD\n",
      "  (Chunk Bandler/NNP)\n",
      "  and/CC\n",
      "  (Chunk Grinder/NNP)\n",
      "  also/RB\n",
      "  claim/VBP\n",
      "  that/IN\n",
      "  (Chunk NLP/NNP methodology/NN)\n",
      "  can/MD\n",
      "  model/VB\n",
      "  the/DT\n",
      "  skills/NNS\n",
      "  of/IN\n",
      "  exceptional/JJ\n",
      "  people/NNS\n",
      "  ,/,\n",
      "  allowing/VBG\n",
      "  anyone/NN\n",
      "  to/TO\n",
      "  acquire/VB\n",
      "  those/DT\n",
      "  skills/NNS\n",
      "  ./.)\n",
      "(S\n",
      "  [/RB\n",
      "  3/CD\n",
      "  ]/NNS\n",
      "  :/:\n",
      "  5–6/CD\n",
      "  [/$\n",
      "  4/CD\n",
      "  ]/NN\n",
      "  They/PRP\n",
      "  claim/VBP\n",
      "  as/RB\n",
      "  well/RB\n",
      "  that/IN\n",
      "  ,/,\n",
      "  often/RB\n",
      "  in/IN\n",
      "  a/DT\n",
      "  single/JJ\n",
      "  session/NN\n",
      "  ,/,\n",
      "  (Chunk NLP/NNP)\n",
      "  can/MD\n",
      "  treat/VB\n",
      "  problems/NNS\n",
      "  such/JJ\n",
      "  as/IN\n",
      "  phobias/NNS\n",
      "  ,/,\n",
      "  depression/NN\n",
      "  ,/,\n",
      "  tic/JJ\n",
      "  disorders/NNS\n",
      "  ,/,\n",
      "  psychosomatic/JJ\n",
      "  illnesses/NNS\n",
      "  ,/,\n",
      "  near-sightedness/JJ\n",
      "  ,/,\n",
      "  [/JJ\n",
      "  5/CD\n",
      "  ]/NN\n",
      "  allergy/NN\n",
      "  ,/,\n",
      "  the/DT\n",
      "  common/JJ\n",
      "  cold/NN\n",
      "  ,/,\n",
      "  (Chunk [/NNP Note/NNP)\n",
      "  1/CD\n",
      "  ]/NN\n",
      "  and/CC\n",
      "  learning/NN\n",
      "  disorders/NNS\n",
      "  ./.)\n",
      "(S\n",
      "  [/RB\n",
      "  7/CD\n",
      "  ]/JJ\n",
      "  [/$\n",
      "  8/CD\n",
      "  (Chunk ]/NNP NLP/NNP)\n",
      "  has/VBZ\n",
      "  been/VBN\n",
      "  adopted/VBN\n",
      "  by/IN\n",
      "  some/DT\n",
      "  hypnotherapists/NNS\n",
      "  and/CC\n",
      "  also/RB\n",
      "  by/IN\n",
      "  companies/NNS\n",
      "  that/WDT\n",
      "  run/VBP\n",
      "  seminars/RB\n",
      "  marketed/VBN\n",
      "  as/IN\n",
      "  leadership/NN\n",
      "  training/NN\n",
      "  to/TO\n",
      "  businesses/NNS\n",
      "  and/CC\n",
      "  government/NN\n",
      "  agencies/NNS\n",
      "  ./.)\n",
      "(S\n",
      "  [/RB\n",
      "  9/CD\n",
      "  ]/JJ\n",
      "  [/$\n",
      "  10/CD\n",
      "  ]/NN\n",
      "  There/EX\n",
      "  is/VBZ\n",
      "  no/DT\n",
      "  scientific/JJ\n",
      "  evidence/NN\n",
      "  supporting/VBG\n",
      "  the/DT\n",
      "  claims/NNS\n",
      "  made/VBN\n",
      "  by/IN\n",
      "  (Chunk NLP/NNP)\n",
      "  advocates/NNS\n",
      "  ,/,\n",
      "  and/CC\n",
      "  it/PRP\n",
      "  has/VBZ\n",
      "  been/VBN\n",
      "  discredited/VBN\n",
      "  as/IN\n",
      "  a/DT\n",
      "  pseudoscience/NN\n",
      "  ./.)\n",
      "(S\n",
      "  [/RB\n",
      "  11/CD\n",
      "  ]/JJ\n",
      "  [/$\n",
      "  12/CD\n",
      "  (Chunk ]/NNP)\n",
      "  [/VBD\n",
      "  13/CD\n",
      "  (Chunk ]/NNP Scientific/NNP)\n",
      "  reviews/VBZ\n",
      "  state/NN\n",
      "  that/IN\n",
      "  (Chunk NLP/NNP)\n",
      "  is/VBZ\n",
      "  based/VBN\n",
      "  on/IN\n",
      "  outdated/JJ\n",
      "  metaphors/NNS\n",
      "  of/IN\n",
      "  how/WRB\n",
      "  the/DT\n",
      "  brain/NN\n",
      "  works/VBZ\n",
      "  that/WDT\n",
      "  are/VBP\n",
      "  inconsistent/JJ\n",
      "  with/IN\n",
      "  current/JJ\n",
      "  neurological/JJ\n",
      "  theory/NN\n",
      "  and/CC\n",
      "  contain/VBP\n",
      "  numerous/JJ\n",
      "  factual/JJ\n",
      "  errors/NNS\n",
      "  ./.)\n",
      "(S\n",
      "  [/RB\n",
      "  10/CD\n",
      "  ]/JJ\n",
      "  [/$\n",
      "  14/CD\n",
      "  (Chunk ]/NNP Reviews/NNP)\n",
      "  also/RB\n",
      "  found/VBD\n",
      "  that/IN\n",
      "  all/DT\n",
      "  of/IN\n",
      "  the/DT\n",
      "  supportive/JJ\n",
      "  research/NN\n",
      "  on/IN\n",
      "  (Chunk NLP/NNP)\n",
      "  contained/VBD\n",
      "  significant/JJ\n",
      "  methodological/JJ\n",
      "  flaws/NNS\n",
      "  and/CC\n",
      "  that/IN\n",
      "  there/EX\n",
      "  were/VBD\n",
      "  three/CD\n",
      "  times/NNS\n",
      "  as/IN\n",
      "  many/JJ\n",
      "  studies/NNS\n",
      "  of/IN\n",
      "  a/DT\n",
      "  much/JJ\n",
      "  higher/JJR\n",
      "  quality/NN\n",
      "  that/WDT\n",
      "  failed/VBD\n",
      "  to/TO\n",
      "  reproduce/VB\n",
      "  the/DT\n",
      "  extraordinary/JJ\n",
      "  claims/NNS\n",
      "  made/VBN\n",
      "  by/IN\n",
      "  (Chunk Bandler/NNP)\n",
      "  ,/,\n",
      "  (Chunk Grinder/NNP)\n",
      "  ,/,\n",
      "  and/CC\n",
      "  other/JJ\n",
      "  (Chunk NLP/NNP)\n",
      "  practitioners/NNS\n",
      "  ./.)\n",
      "(S [/RB 12/CD ]/JJ [/$ 13/CD ]/NN)\n"
     ]
    }
   ],
   "source": [
    "def process_content():\n",
    "    try:\n",
    "        for i in tokenized:\n",
    "            words = nltk.word_tokenize(i)\n",
    "            tagged = nltk.pos_tag(words)\n",
    "            #print(tagged)\n",
    "            \n",
    "            chunkGram = r\"\"\"Chunk: {<RB.?>*<VB.?>*<NNP>+<NN>?}\"\"\" \n",
    "            \n",
    "            chunkParser = nltk.RegexpParser(chunkGram)\n",
    "            chunked = chunkParser.parse(tagged)\n",
    "            print(chunked)\n",
    "            \n",
    "\n",
    "    except Exception as e:\n",
    "        print(str(e))\n",
    "\n",
    "\n",
    "process_content()"
   ]
  },
  {
   "cell_type": "code",
   "execution_count": null,
   "id": "c221d188",
   "metadata": {
    "execution": {
     "iopub.execute_input": "2022-04-28T06:45:53.203102Z",
     "iopub.status.busy": "2022-04-28T06:45:53.202500Z",
     "iopub.status.idle": "2022-04-28T06:45:53.269933Z",
     "shell.execute_reply": "2022-04-28T06:45:53.270531Z",
     "shell.execute_reply.started": "2022-04-28T06:01:10.416575Z"
    },
    "papermill": {
     "duration": 0.173048,
     "end_time": "2022-04-28T06:45:53.270714",
     "exception": false,
     "start_time": "2022-04-28T06:45:53.097666",
     "status": "completed"
    },
    "tags": []
   },
   "outputs": [],
   "source": [
    "import matplotlib.pyplot as plt\n",
    "from sklearn import tree\n",
    "import os\n",
    "from IPython.display import Image, display\n",
    "from nltk.draw import TreeWidget\n",
    "from nltk.draw.util import CanvasFrame\n",
    "%matplotlib inline\n",
    "\n",
    "def process_content():\n",
    "    try:\n",
    "        for i in tokenized:\n",
    "            words = nltk.word_tokenize(i)\n",
    "            tagged = nltk.pos_tag(words)\n",
    "            #print(tagged)\n",
    "            \n",
    "            chunkGram = r\"\"\"Chunk: {<RB.?>*<VB.?>*<NNP>+<NN>?}\"\"\" \n",
    "            \n",
    "            chunkParser = nltk.RegexpParser(chunkGram)\n",
    "            chunked = chunkParser.parse(tagged)\n",
    "            #print(chunked)\n",
    "            chunked.draw()\n",
    "\n",
    "    except Exception as e:\n",
    "        print(str(e))\n",
    "\n",
    "\n",
    "process_content()"
   ]
  },
  {
   "cell_type": "markdown",
   "id": "9b2ae1fa",
   "metadata": {
    "papermill": {
     "duration": 0.097705,
     "end_time": "2022-04-28T06:45:53.468451",
     "exception": false,
     "start_time": "2022-04-28T06:45:53.370746",
     "status": "completed"
    },
    "tags": []
   },
   "source": [
    "This kind of output is shows! but jupyter got didnot display\n",
    "\n",
    "<img src='https://naadispeaks.files.wordpress.com/2017/02/cap_4.gif'>"
   ]
  },
  {
   "cell_type": "markdown",
   "id": "5ebd129d",
   "metadata": {
    "papermill": {
     "duration": 0.098068,
     "end_time": "2022-04-28T06:45:53.665598",
     "exception": false,
     "start_time": "2022-04-28T06:45:53.567530",
     "status": "completed"
    },
    "tags": []
   },
   "source": [
    "# **6. Chinking**\n",
    "Chinking is a lot like chunking, it is basically a way for you to remove a chunk from a chunk. The chunk that you remove from your chunk is your chink."
   ]
  },
  {
   "cell_type": "code",
   "execution_count": null,
   "id": "f2003bd3",
   "metadata": {
    "_kg_hide-output": true,
    "execution": {
     "iopub.execute_input": "2022-04-28T06:45:53.873966Z",
     "iopub.status.busy": "2022-04-28T06:45:53.873156Z",
     "iopub.status.idle": "2022-04-28T06:45:53.904273Z",
     "shell.execute_reply": "2022-04-28T06:45:53.903716Z",
     "shell.execute_reply.started": "2022-04-28T06:01:10.830662Z"
    },
    "papermill": {
     "duration": 0.136981,
     "end_time": "2022-04-28T06:45:53.904393",
     "exception": false,
     "start_time": "2022-04-28T06:45:53.767412",
     "status": "completed"
    },
    "tags": []
   },
   "outputs": [],
   "source": [
    "def process_content():\n",
    "    try:\n",
    "        for i in tokenized:\n",
    "            words = nltk.word_tokenize(i)\n",
    "            tagged = nltk.pos_tag(words)\n",
    "            #print(tagged)\n",
    "            \n",
    "            chunkGram = r\"\"\"Chunk: {<.*>+}\n",
    "                                    }<VB.?|IN|DT|TO>+{\"\"\"\n",
    "            \n",
    "            chunkParser = nltk.RegexpParser(chunkGram)\n",
    "            chunked = chunkParser.parse(tagged)\n",
    "            print(chunked)\n",
    "            #chunked.draw()\n",
    "\n",
    "    except Exception as e:\n",
    "        print(str(e))\n",
    "\n",
    "\n",
    "process_content()"
   ]
  },
  {
   "cell_type": "markdown",
   "id": "a17178f2",
   "metadata": {
    "papermill": {
     "duration": 0.102825,
     "end_time": "2022-04-28T06:45:54.107536",
     "exception": false,
     "start_time": "2022-04-28T06:45:54.004711",
     "status": "completed"
    },
    "tags": []
   },
   "source": [
    "# **7. Named Entity Recognition:**\n",
    "\n",
    "One of the most major forms of chunking in natural language processing is called \"Named Entity Recognition.\" The idea is to have the machine immediately be able to pull out \"entities\" like people, places, things, locations, monetary figures, and more.\n",
    "\n",
    "\n",
    "#### **Example:**\n",
    "\n",
    "NE Type and Examples\n",
    "\n",
    "1. ORGANIZATION - Georgia-Pacific Corp., WHO\n",
    "2. PERSON - Eddy Bonte, President Obama\n",
    "3. LOCATION - Murray River, Mount Everest\n",
    "4. DATE - June, 2008-06-29\n",
    "5. TIME - two fifty a m, 1:30 p.m.\n",
    "6. MONEY - 175 million Canadian Dollars, GBP 10.40\n",
    "7. PERCENT - twenty pct, 18.75 %\n",
    "8. FACILITY - Washington Monument, Stonehenge\n",
    "9. GPE - South East Asia, Midlothian"
   ]
  },
  {
   "cell_type": "code",
   "execution_count": null,
   "id": "8ffff9da",
   "metadata": {
    "_kg_hide-output": true,
    "execution": {
     "iopub.execute_input": "2022-04-28T06:45:54.312642Z",
     "iopub.status.busy": "2022-04-28T06:45:54.311818Z",
     "iopub.status.idle": "2022-04-28T06:45:54.679253Z",
     "shell.execute_reply": "2022-04-28T06:45:54.680068Z",
     "shell.execute_reply.started": "2022-04-28T06:01:11.059916Z"
    },
    "papermill": {
     "duration": 0.473304,
     "end_time": "2022-04-28T06:45:54.680310",
     "exception": false,
     "start_time": "2022-04-28T06:45:54.207006",
     "status": "completed"
    },
    "tags": []
   },
   "outputs": [],
   "source": [
    "def process_content():\n",
    "    try:\n",
    "        for i in tokenized:\n",
    "            words = nltk.word_tokenize(i)\n",
    "            tagged = nltk.pos_tag(words)\n",
    "            \n",
    "            print('Without Binary NER')\n",
    "            print('-----------------------------------------------------------------------------------')\n",
    "            # Try without apply binary=True\n",
    "            namedEntity = nltk.ne_chunk(tagged)\n",
    "            #namedEntity.draw()\n",
    "            print(namedEntity)\n",
    "            print('----------------------------------------------------------------------------------')\n",
    "            \n",
    "            print('With Binary NER')\n",
    "            print('-----------------------------------------------------------------------------------')\n",
    "            # try with apply binary= True\n",
    "            namedEntity_Bin = nltk.ne_chunk(tagged,binary=True)\n",
    "            print(namedEntity_Bin)\n",
    "            \n",
    "    except Exception as e:\n",
    "        print(str(e))\n",
    "\n",
    "print(\"Go and watch the output like name entity recognition e.g., organization(NNP/NN),....\")\n",
    "print('')\n",
    "process_content()\n"
   ]
  },
  {
   "cell_type": "markdown",
   "id": "60c4528e",
   "metadata": {
    "papermill": {
     "duration": 0.109894,
     "end_time": "2022-04-28T06:45:54.899201",
     "exception": false,
     "start_time": "2022-04-28T06:45:54.789307",
     "status": "completed"
    },
    "tags": []
   },
   "source": [
    "# ***8. Lemmatization***\n",
    "A very similar operation to stemming is called lemmatizing. The major difference between these is, as you saw earlier, stemming can often create non-existent words, whereas lemmas are actual words.\n",
    "\n",
    "So, your root stem, meaning the word you end up with, is not something you can just look up in a dictionary, but you can look up a lemma.\n",
    "\n"
   ]
  },
  {
   "cell_type": "code",
   "execution_count": null,
   "id": "a1d8c9f6",
   "metadata": {
    "execution": {
     "iopub.execute_input": "2022-04-28T06:45:55.116557Z",
     "iopub.status.busy": "2022-04-28T06:45:55.115592Z",
     "iopub.status.idle": "2022-04-28T06:45:55.117440Z",
     "shell.execute_reply": "2022-04-28T06:45:55.117969Z",
     "shell.execute_reply.started": "2022-04-28T06:01:11.376571Z"
    },
    "papermill": {
     "duration": 0.113078,
     "end_time": "2022-04-28T06:45:55.118110",
     "exception": false,
     "start_time": "2022-04-28T06:45:55.005032",
     "status": "completed"
    },
    "tags": []
   },
   "outputs": [],
   "source": [
    "from nltk.stem import WordNetLemmatizer\n",
    "\n",
    "lemmatizer = WordNetLemmatizer()"
   ]
  },
  {
   "cell_type": "code",
   "execution_count": null,
   "id": "3b09d9ba",
   "metadata": {
    "execution": {
     "iopub.execute_input": "2022-04-28T06:45:55.327422Z",
     "iopub.status.busy": "2022-04-28T06:45:55.326796Z",
     "iopub.status.idle": "2022-04-28T06:45:57.180587Z",
     "shell.execute_reply": "2022-04-28T06:45:57.181021Z",
     "shell.execute_reply.started": "2022-04-28T06:01:11.894185Z"
    },
    "papermill": {
     "duration": 1.960172,
     "end_time": "2022-04-28T06:45:57.181185",
     "exception": false,
     "start_time": "2022-04-28T06:45:55.221013",
     "status": "completed"
    },
    "tags": []
   },
   "outputs": [],
   "source": [
    "print(lemmatizer.lemmatize(\"cats\"))\n",
    "print(lemmatizer.lemmatize(\"cacti\"))\n",
    "print(lemmatizer.lemmatize(\"dogs\"))\n",
    "print(lemmatizer.lemmatize(\"corpora\"))\n",
    "print(lemmatizer.lemmatize(\"geese\"))\n",
    "print(lemmatizer.lemmatize(\"rocks\"))\n",
    "print(lemmatizer.lemmatize(\"python\"))"
   ]
  },
  {
   "cell_type": "code",
   "execution_count": null,
   "id": "ac7b4144",
   "metadata": {
    "execution": {
     "iopub.execute_input": "2022-04-28T06:45:57.396604Z",
     "iopub.status.busy": "2022-04-28T06:45:57.395920Z",
     "iopub.status.idle": "2022-04-28T06:45:57.399154Z",
     "shell.execute_reply": "2022-04-28T06:45:57.399731Z",
     "shell.execute_reply.started": "2022-04-28T06:01:12.17628Z"
    },
    "papermill": {
     "duration": 0.114727,
     "end_time": "2022-04-28T06:45:57.399906",
     "exception": false,
     "start_time": "2022-04-28T06:45:57.285179",
     "status": "completed"
    },
    "tags": []
   },
   "outputs": [],
   "source": [
    "# different approach based on noun,adjective,verb\n",
    "\n",
    "#general\n",
    "print('General_lemma:',lemmatizer.lemmatize(\"worst\"))\n",
    "\n",
    "# Adjective\n",
    "print('Adjective_change_lemma -> worst to :',lemmatizer.lemmatize(\"worst\", pos='a'))\n",
    "print('Adjective_change_lemma -> better to:',lemmatizer.lemmatize(\"better\",pos='a'))\n",
    "\n",
    "#verb\n",
    "print('lemma_v:',lemmatizer.lemmatize(\"run\"))\n",
    "print('lemma_verb_initiated:',lemmatizer.lemmatize(\"run\",pos='v'))\n"
   ]
  },
  {
   "cell_type": "markdown",
   "id": "20d874a3",
   "metadata": {
    "papermill": {
     "duration": 0.100756,
     "end_time": "2022-04-28T06:45:57.600504",
     "exception": false,
     "start_time": "2022-04-28T06:45:57.499748",
     "status": "completed"
    },
    "tags": []
   },
   "source": [
    "# **9. Corpora**\n",
    "\n",
    "Corpus - Simply said that corpus means inbuilt data of text\n",
    "\n",
    "Almost all of the files in the NLTK corpus follow the same rules for accessing them by using the NLTK module, but nothing is magical about them. These files are plain text files for the most part, some are XML and some are other formats, but they are all accessible by you manually, or via the module and Python"
   ]
  },
  {
   "cell_type": "code",
   "execution_count": null,
   "id": "ed8a2d8d",
   "metadata": {
    "execution": {
     "iopub.execute_input": "2022-04-28T06:45:57.809055Z",
     "iopub.status.busy": "2022-04-28T06:45:57.808292Z",
     "iopub.status.idle": "2022-04-28T06:45:57.811215Z",
     "shell.execute_reply": "2022-04-28T06:45:57.811775Z",
     "shell.execute_reply.started": "2022-04-28T06:01:12.496876Z"
    },
    "papermill": {
     "duration": 0.109248,
     "end_time": "2022-04-28T06:45:57.811976",
     "exception": false,
     "start_time": "2022-04-28T06:45:57.702728",
     "status": "completed"
    },
    "tags": []
   },
   "outputs": [],
   "source": [
    "import nltk\n",
    "from nltk.corpus import gutenberg\n",
    "from nltk.tokenize import sent_tokenize\n",
    "\n",
    "print(nltk.__file__)"
   ]
  },
  {
   "cell_type": "code",
   "execution_count": null,
   "id": "db389313",
   "metadata": {
    "execution": {
     "iopub.execute_input": "2022-04-28T06:45:58.037440Z",
     "iopub.status.busy": "2022-04-28T06:45:58.036562Z",
     "iopub.status.idle": "2022-04-28T06:45:59.635504Z",
     "shell.execute_reply": "2022-04-28T06:45:59.634741Z",
     "shell.execute_reply.started": "2022-04-28T06:01:12.832784Z"
    },
    "papermill": {
     "duration": 1.708931,
     "end_time": "2022-04-28T06:45:59.635652",
     "exception": false,
     "start_time": "2022-04-28T06:45:57.926721",
     "status": "completed"
    },
    "tags": []
   },
   "outputs": [],
   "source": [
    "sample = gutenberg.raw(\"bible-kjv.txt\")\n",
    "tok = sent_tokenize(sample)\n",
    "print(tok[5:15])"
   ]
  },
  {
   "cell_type": "markdown",
   "id": "ae37f348",
   "metadata": {
    "papermill": {
     "duration": 0.102765,
     "end_time": "2022-04-28T06:45:59.842258",
     "exception": false,
     "start_time": "2022-04-28T06:45:59.739493",
     "status": "completed"
    },
    "tags": []
   },
   "source": [
    "# **10. WordNet:**\n",
    "\n",
    "WordNet is a lexical database for the English language, which was created by Princeton, and is part of the NLTK corpus.\n",
    "\n",
    "You can use WordNet alongside the NLTK module to find the meanings of words, synonyms, antonyms, and more"
   ]
  },
  {
   "cell_type": "code",
   "execution_count": null,
   "id": "67ab7f67",
   "metadata": {
    "execution": {
     "iopub.execute_input": "2022-04-28T06:46:00.075397Z",
     "iopub.status.busy": "2022-04-28T06:46:00.074552Z",
     "iopub.status.idle": "2022-04-28T06:46:00.076878Z",
     "shell.execute_reply": "2022-04-28T06:46:00.076363Z",
     "shell.execute_reply.started": "2022-04-28T06:01:14.368248Z"
    },
    "papermill": {
     "duration": 0.119342,
     "end_time": "2022-04-28T06:46:00.076987",
     "exception": false,
     "start_time": "2022-04-28T06:45:59.957645",
     "status": "completed"
    },
    "tags": []
   },
   "outputs": [],
   "source": [
    "from nltk.corpus import wordnet"
   ]
  },
  {
   "cell_type": "code",
   "execution_count": null,
   "id": "0e399828",
   "metadata": {
    "execution": {
     "iopub.execute_input": "2022-04-28T06:46:00.295621Z",
     "iopub.status.busy": "2022-04-28T06:46:00.295071Z",
     "iopub.status.idle": "2022-04-28T06:46:00.312602Z",
     "shell.execute_reply": "2022-04-28T06:46:00.313313Z",
     "shell.execute_reply.started": "2022-04-28T06:01:14.374241Z"
    },
    "papermill": {
     "duration": 0.129832,
     "end_time": "2022-04-28T06:46:00.313489",
     "exception": false,
     "start_time": "2022-04-28T06:46:00.183657",
     "status": "completed"
    },
    "tags": []
   },
   "outputs": [],
   "source": [
    "syns = wordnet.synsets(\"program\")\n",
    "print('All kind of syns:',syns)"
   ]
  },
  {
   "cell_type": "code",
   "execution_count": null,
   "id": "f7284d2c",
   "metadata": {
    "execution": {
     "iopub.execute_input": "2022-04-28T06:46:00.522326Z",
     "iopub.status.busy": "2022-04-28T06:46:00.521517Z",
     "iopub.status.idle": "2022-04-28T06:46:00.530101Z",
     "shell.execute_reply": "2022-04-28T06:46:00.529704Z",
     "shell.execute_reply.started": "2022-04-28T06:01:14.388294Z"
    },
    "papermill": {
     "duration": 0.111857,
     "end_time": "2022-04-28T06:46:00.530240",
     "exception": false,
     "start_time": "2022-04-28T06:46:00.418383",
     "status": "completed"
    },
    "tags": []
   },
   "outputs": [],
   "source": [
    "#synset\n",
    "print('Only first index of synset:',syns[0])\n",
    "print('------------------------------------')\n",
    "\n",
    "# lemmas\n",
    "print('Apply lemmas in first index of synset:',syns[0].lemmas())\n",
    "print('------------------------------------')\n",
    "# just the one word\n",
    "print('Name of synset:',syns[0].lemmas()[0].name())\n",
    "print('------------------------------------')\n",
    "# definition of particular word (eg.. plan)\n",
    "print('Definition of synsets:',syns[0].definition())\n",
    "print('------------------------------------')\n",
    "#examples\n",
    "print('Example of synsets:',syns[0].examples())\n",
    "print('------------------------------------')"
   ]
  },
  {
   "cell_type": "code",
   "execution_count": null,
   "id": "db0b75f4",
   "metadata": {
    "execution": {
     "iopub.execute_input": "2022-04-28T06:46:00.740923Z",
     "iopub.status.busy": "2022-04-28T06:46:00.740284Z",
     "iopub.status.idle": "2022-04-28T06:46:00.753257Z",
     "shell.execute_reply": "2022-04-28T06:46:00.753865Z",
     "shell.execute_reply.started": "2022-04-28T06:01:14.453854Z"
    },
    "papermill": {
     "duration": 0.122163,
     "end_time": "2022-04-28T06:46:00.754041",
     "exception": false,
     "start_time": "2022-04-28T06:46:00.631878",
     "status": "completed"
    },
    "tags": []
   },
   "outputs": [],
   "source": [
    "# Synonyms and Antonyms\n",
    "\n",
    "synonyms = []\n",
    "antonyms = []\n",
    "\n",
    "for syn in wordnet.synsets(\"unknown\"):\n",
    "    for l in syn.lemmas(): #lemmas means synonyms of word\n",
    "#         print(\"l:\",l) # meaning of words in nltk library is lot\n",
    "#         print('---------------------------------------------')\n",
    "        synonyms.append(l.name())\n",
    "        \n",
    "        if l.antonyms(): #opposite of meaning\n",
    "            antonyms.append(l.antonyms()[0].name())\n",
    "\n",
    "print('Synonyms:',set(synonyms))\n",
    "print('----------------------------------------------------')\n",
    "print('antonyms:',set(antonyms))\n",
    "print('----------------------------------------------------')"
   ]
  },
  {
   "cell_type": "markdown",
   "id": "2806f916",
   "metadata": {
    "papermill": {
     "duration": 0.154673,
     "end_time": "2022-04-28T06:46:01.012371",
     "exception": false,
     "start_time": "2022-04-28T06:46:00.857698",
     "status": "completed"
    },
    "tags": []
   },
   "source": [
    "# **11. Similarity identification**"
   ]
  },
  {
   "cell_type": "code",
   "execution_count": null,
   "id": "bdf20f7d",
   "metadata": {
    "execution": {
     "iopub.execute_input": "2022-04-28T06:46:01.369477Z",
     "iopub.status.busy": "2022-04-28T06:46:01.368656Z",
     "iopub.status.idle": "2022-04-28T06:46:01.543291Z",
     "shell.execute_reply": "2022-04-28T06:46:01.543836Z",
     "shell.execute_reply.started": "2022-04-28T06:01:14.834499Z"
    },
    "papermill": {
     "duration": 0.357569,
     "end_time": "2022-04-28T06:46:01.544028",
     "exception": false,
     "start_time": "2022-04-28T06:46:01.186459",
     "status": "completed"
    },
    "tags": []
   },
   "outputs": [],
   "source": [
    "#Similarity identification\n",
    "\n",
    "#\"Wu and Palmer method: WordNet::Similarity::wup - Perl module for computing semantic relatedness of word senses using the edge counting method of the of Wu & Palmer (1994)\"\n",
    "#Resnik (1999) revises the Wu & Palmer (1994) method of measuring semantic relatedness. Resnik uses use an edge distance method by taking into account the most specific node subsuming the two concepts. Here we have implemented the original Wu & Palmer method, which uses node-counting.\n",
    "# If you want more details refer this one: \"https://metacpan.org/release/TPEDERSE/WordNet-Similarity-1.03/view/lib/WordNet/Similarity/wup.pm'\n",
    "\n",
    "\n",
    "word1 = wordnet.synset(\"computer.n.01\") # n means Noun\n",
    "word2 = wordnet.synset(\"system.n.01\")\n",
    "\n",
    "word3 = wordnet.synset(\"cycle.n.01\") # n means Noun\n",
    "word4 = wordnet.synset(\"bike.n.01\")\n",
    "\n",
    "word5 = wordnet.synset(\"ship.n.01\") # n means Noun\n",
    "word6 = wordnet.synset(\"person.n.01\")\n",
    "\n",
    "word7 = wordnet.synset(\"ship.n.01\") # n means Noun\n",
    "word8 = wordnet.synset(\"boat.n.01\")\n",
    "\n",
    "\n",
    "\n",
    "print('Similarity_Score of first_second words: ',word1.wup_similarity(word2))\n",
    "print('Similarity_Score of Third_fourth words: ',word3.wup_similarity(word4))\n",
    "print('Similarity_Score of fifth_sixth words: ',word5.wup_similarity(word6))\n",
    "print('Similarity_Score of seventh_eigth words: ',word7.wup_similarity(word8))"
   ]
  },
  {
   "cell_type": "markdown",
   "id": "eba882d1",
   "metadata": {
    "papermill": {
     "duration": 0.103297,
     "end_time": "2022-04-28T06:46:01.753985",
     "exception": false,
     "start_time": "2022-04-28T06:46:01.650688",
     "status": "completed"
    },
    "tags": []
   },
   "source": [
    "# ***Apply above knowledge in simple nltk corpus data***\n",
    "\n",
    "# **12. Text_Classification**\n",
    "\n",
    "- Text classification can be pretty broad. Maybe we're trying to classify text as about politics or the military,Culture, stock etc... \n",
    "- Maybe we're trying to classify it by the gender of the author who wrote it. In our case, we're going to try to create a sentiment analysis algorithm.\n",
    "\n",
    "**I thought NLTK corpus is awesome! Because all custom data and easy to work**\n",
    "\n",
    "1. Taken the Movie review data\n",
    "2. Identify the common negative words (convert word to features)\n",
    "3. Apply naive bayes algo (How to works?)"
   ]
  },
  {
   "cell_type": "code",
   "execution_count": null,
   "id": "035169f8",
   "metadata": {
    "execution": {
     "iopub.execute_input": "2022-04-28T06:46:01.967416Z",
     "iopub.status.busy": "2022-04-28T06:46:01.966799Z",
     "iopub.status.idle": "2022-04-28T06:46:01.970753Z",
     "shell.execute_reply": "2022-04-28T06:46:01.970166Z",
     "shell.execute_reply.started": "2022-04-28T06:01:15.141485Z"
    },
    "papermill": {
     "duration": 0.114627,
     "end_time": "2022-04-28T06:46:01.970888",
     "exception": false,
     "start_time": "2022-04-28T06:46:01.856261",
     "status": "completed"
    },
    "tags": []
   },
   "outputs": [],
   "source": [
    "# Now I am trying to movie review(sentimental analysis)\n",
    "import nltk\n",
    "import random\n",
    "from nltk.corpus import movie_reviews"
   ]
  },
  {
   "cell_type": "code",
   "execution_count": null,
   "id": "4c55ec99",
   "metadata": {
    "_kg_hide-output": true,
    "execution": {
     "iopub.execute_input": "2022-04-28T06:46:02.192290Z",
     "iopub.status.busy": "2022-04-28T06:46:02.191712Z",
     "iopub.status.idle": "2022-04-28T06:46:06.054226Z",
     "shell.execute_reply": "2022-04-28T06:46:06.053747Z",
     "shell.execute_reply.started": "2022-04-28T06:01:15.467532Z"
    },
    "papermill": {
     "duration": 3.972601,
     "end_time": "2022-04-28T06:46:06.054360",
     "exception": false,
     "start_time": "2022-04-28T06:46:02.081759",
     "status": "completed"
    },
    "tags": []
   },
   "outputs": [],
   "source": [
    "# documents_review = []\n",
    "\n",
    "# for category in movie_reviews.categories():\n",
    "#     for fileid in movie_reviews.categories():\n",
    "#         documents_review.append(list(movie_reviews.words(fileid)),category)\n",
    "\n",
    "\n",
    "documents = [(list(movie_reviews.words(fileid)),category)\n",
    "            for category in movie_reviews.categories()\n",
    "            for fileid in movie_reviews.fileids(category)]\n",
    "\n",
    "random.shuffle(documents)\n",
    "print(documents[1])"
   ]
  },
  {
   "cell_type": "code",
   "execution_count": null,
   "id": "cb937093",
   "metadata": {
    "_kg_hide-input": true,
    "execution": {
     "iopub.execute_input": "2022-04-28T06:46:06.271925Z",
     "iopub.status.busy": "2022-04-28T06:46:06.271153Z",
     "iopub.status.idle": "2022-04-28T06:46:09.649161Z",
     "shell.execute_reply": "2022-04-28T06:46:09.649918Z",
     "shell.execute_reply.started": "2022-04-28T06:01:18.918216Z"
    },
    "papermill": {
     "duration": 3.488463,
     "end_time": "2022-04-28T06:46:09.650161",
     "exception": false,
     "start_time": "2022-04-28T06:46:06.161698",
     "status": "completed"
    },
    "tags": []
   },
   "outputs": [],
   "source": [
    "all_words = []\n",
    "for w in movie_reviews.words():\n",
    "    all_words.append(w.lower())\n",
    "\n",
    "# Print Most common words in the movie reviews (15) - How many time used\n",
    "all_words = nltk.FreqDist(all_words)\n",
    "print(all_words.most_common(15))"
   ]
  },
  {
   "cell_type": "code",
   "execution_count": null,
   "id": "72f30d3b",
   "metadata": {
    "execution": {
     "iopub.execute_input": "2022-04-28T06:46:09.987605Z",
     "iopub.status.busy": "2022-04-28T06:46:09.986140Z",
     "iopub.status.idle": "2022-04-28T06:46:09.990042Z",
     "shell.execute_reply": "2022-04-28T06:46:09.986842Z",
     "shell.execute_reply.started": "2022-04-28T06:01:22.208356Z"
    },
    "papermill": {
     "duration": 0.179716,
     "end_time": "2022-04-28T06:46:09.990233",
     "exception": false,
     "start_time": "2022-04-28T06:46:09.810517",
     "status": "completed"
    },
    "tags": []
   },
   "outputs": [],
   "source": [
    "print('How many time word \"happy\" comes in movie reviews: ',all_words[\"happy\"])"
   ]
  },
  {
   "cell_type": "markdown",
   "id": "b92cbefd",
   "metadata": {
    "papermill": {
     "duration": 0.173335,
     "end_time": "2022-04-28T06:46:10.353162",
     "exception": false,
     "start_time": "2022-04-28T06:46:10.179827",
     "status": "completed"
    },
    "tags": []
   },
   "source": [
    "# **12.1. Converting Words to features**"
   ]
  },
  {
   "cell_type": "code",
   "execution_count": null,
   "id": "75ae004b",
   "metadata": {
    "_kg_hide-input": true,
    "execution": {
     "iopub.execute_input": "2022-04-28T06:46:10.707920Z",
     "iopub.status.busy": "2022-04-28T06:46:10.707077Z",
     "iopub.status.idle": "2022-04-28T06:46:17.460230Z",
     "shell.execute_reply": "2022-04-28T06:46:17.459735Z",
     "shell.execute_reply.started": "2022-04-28T06:01:22.217173Z"
    },
    "papermill": {
     "duration": 6.932422,
     "end_time": "2022-04-28T06:46:17.460372",
     "exception": false,
     "start_time": "2022-04-28T06:46:10.527950",
     "status": "completed"
    },
    "tags": []
   },
   "outputs": [],
   "source": [
    "# Already we know this below code only change is visualize the 3000 common words\n",
    "documents = [(list(movie_reviews.words(fileid)), category)\n",
    "             for category in movie_reviews.categories()\n",
    "             for fileid in movie_reviews.fileids(category)]\n",
    "\n",
    "random.shuffle(documents)\n",
    "\n",
    "all_words = []\n",
    "\n",
    "for w in movie_reviews.words():\n",
    "    all_words.append(w.lower())\n",
    "\n",
    "all_words = nltk.FreqDist(all_words)\n",
    "\n",
    "word_features = list(all_words.keys())[:3000]"
   ]
  },
  {
   "cell_type": "code",
   "execution_count": null,
   "id": "f384f46d",
   "metadata": {
    "_kg_hide-output": true,
    "execution": {
     "iopub.execute_input": "2022-04-28T06:46:17.711357Z",
     "iopub.status.busy": "2022-04-28T06:46:17.674930Z",
     "iopub.status.idle": "2022-04-28T06:46:18.893753Z",
     "shell.execute_reply": "2022-04-28T06:46:18.892751Z",
     "shell.execute_reply.started": "2022-04-28T06:01:28.807023Z"
    },
    "papermill": {
     "duration": 1.328905,
     "end_time": "2022-04-28T06:46:18.893905",
     "exception": false,
     "start_time": "2022-04-28T06:46:17.565000",
     "status": "completed"
    },
    "tags": []
   },
   "outputs": [],
   "source": [
    "# Identify the which one commonly positive and negative\n",
    "\n",
    "def find_features(document):\n",
    "    words = set(document)\n",
    "    features = {}\n",
    "    for w in word_features:\n",
    "        features[w] = (w in words)\n",
    "    return features\n",
    "\n",
    "print((find_features(movie_reviews.words('neg/cv000_29416.txt'))))\n",
    "\n",
    "feature_sets = [(find_features(rev), category) for (rev,category) in documents ]"
   ]
  },
  {
   "cell_type": "markdown",
   "id": "713eaf50",
   "metadata": {
    "papermill": {
     "duration": 0.105099,
     "end_time": "2022-04-28T06:46:19.106661",
     "exception": false,
     "start_time": "2022-04-28T06:46:19.001562",
     "status": "completed"
    },
    "tags": []
   },
   "source": [
    "# **12.2. Apply Algorithm and predict output**"
   ]
  },
  {
   "cell_type": "code",
   "execution_count": null,
   "id": "46507b8b",
   "metadata": {
    "execution": {
     "iopub.execute_input": "2022-04-28T06:46:19.324006Z",
     "iopub.status.busy": "2022-04-28T06:46:19.323090Z",
     "iopub.status.idle": "2022-04-28T06:46:19.325490Z",
     "shell.execute_reply": "2022-04-28T06:46:19.324969Z",
     "shell.execute_reply.started": "2022-04-28T06:01:29.863568Z"
    },
    "papermill": {
     "duration": 0.113283,
     "end_time": "2022-04-28T06:46:19.325599",
     "exception": false,
     "start_time": "2022-04-28T06:46:19.212316",
     "status": "completed"
    },
    "tags": []
   },
   "outputs": [],
   "source": [
    "#Feature separation(dont said category of data and predict the algo)\n",
    "\n",
    "train_set = feature_sets[:1900]\n",
    "test_set = feature_sets[1900:]"
   ]
  },
  {
   "cell_type": "code",
   "execution_count": null,
   "id": "1c5647dd",
   "metadata": {
    "_kg_hide-input": true,
    "execution": {
     "iopub.execute_input": "2022-04-28T06:46:19.578341Z",
     "iopub.status.busy": "2022-04-28T06:46:19.563002Z",
     "iopub.status.idle": "2022-04-28T06:46:27.810064Z",
     "shell.execute_reply": "2022-04-28T06:46:27.810674Z",
     "shell.execute_reply.started": "2022-04-28T06:01:29.934185Z"
    },
    "papermill": {
     "duration": 8.381053,
     "end_time": "2022-04-28T06:46:27.810868",
     "exception": false,
     "start_time": "2022-04-28T06:46:19.429815",
     "status": "completed"
    },
    "tags": []
   },
   "outputs": [],
   "source": [
    "#Naive bayes algo best \n",
    "\n",
    "classifier = nltk.NaiveBayesClassifier.train(train_set)\n",
    "print(\"NaiveBayes Algorithm accuracy % :\", (nltk.classify.accuracy(classifier,test_set))*100)\n",
    "print('----------------------------------------------------------')\n",
    "print('')\n",
    "classifier.show_most_informative_features(15)"
   ]
  },
  {
   "cell_type": "markdown",
   "id": "c8ea2ff6",
   "metadata": {
    "papermill": {
     "duration": 0.113901,
     "end_time": "2022-04-28T06:46:28.043334",
     "exception": false,
     "start_time": "2022-04-28T06:46:27.929433",
     "status": "completed"
    },
    "tags": []
   },
   "source": [
    "# **12.3. Save_Load the Pickle file**"
   ]
  },
  {
   "cell_type": "code",
   "execution_count": null,
   "id": "af0171d2",
   "metadata": {
    "_kg_hide-input": true,
    "execution": {
     "iopub.execute_input": "2022-04-28T06:46:28.285285Z",
     "iopub.status.busy": "2022-04-28T06:46:28.264739Z",
     "iopub.status.idle": "2022-04-28T06:46:29.622865Z",
     "shell.execute_reply": "2022-04-28T06:46:29.623375Z",
     "shell.execute_reply.started": "2022-04-28T06:01:38.083846Z"
    },
    "papermill": {
     "duration": 1.472765,
     "end_time": "2022-04-28T06:46:29.623537",
     "exception": false,
     "start_time": "2022-04-28T06:46:28.150772",
     "status": "completed"
    },
    "tags": []
   },
   "outputs": [],
   "source": [
    "import pickle\n",
    "#save the model\n",
    "\n",
    "save_class = open(\"naivebayes.pickle\",\"wb\")\n",
    "pickle.dump(classifier,save_class)\n",
    "save_class.close()\n",
    "\n",
    "classifier_f = open(\"./naivebayes.pickle\", \"rb\")\n",
    "classifier = pickle.load(classifier_f)\n",
    "classifier_f.close()\n",
    "\n",
    "print(\"NaiveBayes Algorithm accuracy % :\", (nltk.classify.accuracy(classifier,test_set))*100)\n",
    "print('----------------------------------------------------------')\n",
    "print('')\n",
    "classifier.show_most_informative_features(30)"
   ]
  },
  {
   "cell_type": "markdown",
   "id": "65a2d4b4",
   "metadata": {
    "papermill": {
     "duration": 0.10446,
     "end_time": "2022-04-28T06:46:29.832565",
     "exception": false,
     "start_time": "2022-04-28T06:46:29.728105",
     "status": "completed"
    },
    "tags": []
   },
   "source": [
    "# **13. Text Representation**\n",
    "\n",
    " Text Representation is a way to convert text in its natural form to vector form  – Machines like it and understand it in this way only! The numbers/vectors form. This is the second step in an NLP pipeline after Text Pre-processing. Let’s get started with a sample corpus, pre-process\n",
    "\n",
    "<img src= 'https://github.com/practical-nlp/practical-nlp-figures/raw/master/figures/3-1.png'>"
   ]
  },
  {
   "cell_type": "markdown",
   "id": "6764396e",
   "metadata": {
    "papermill": {
     "duration": 0.104591,
     "end_time": "2022-04-28T06:46:30.040656",
     "exception": false,
     "start_time": "2022-04-28T06:46:29.936065",
     "status": "completed"
    },
    "tags": []
   },
   "source": [
    "## **13.1. One Hot Encoding of text (First manual function and using simple scikitlearn)**"
   ]
  },
  {
   "cell_type": "code",
   "execution_count": null,
   "id": "837bad6e",
   "metadata": {
    "execution": {
     "iopub.execute_input": "2022-04-28T06:46:30.290961Z",
     "iopub.status.busy": "2022-04-28T06:46:30.290304Z",
     "iopub.status.idle": "2022-04-28T06:46:30.293650Z",
     "shell.execute_reply": "2022-04-28T06:46:30.294061Z",
     "shell.execute_reply.started": "2022-04-28T06:01:39.752163Z"
    },
    "papermill": {
     "duration": 0.147158,
     "end_time": "2022-04-28T06:46:30.294209",
     "exception": false,
     "start_time": "2022-04-28T06:46:30.147051",
     "status": "completed"
    },
    "tags": []
   },
   "outputs": [],
   "source": [
    "# take input text doc and remove puncuation,dot, cvt lower all input data\n",
    "\n",
    "documents = [\"Dog bites man.\", \"Man bites dog.\", \"Dog eats meat.\", \"Man eats food.\"]\n",
    "processed_docs = [doc.lower().replace(\".\",\"\") for doc in documents]\n",
    "processed_docs"
   ]
  },
  {
   "cell_type": "code",
   "execution_count": null,
   "id": "0119141a",
   "metadata": {
    "_kg_hide-input": true,
    "execution": {
     "iopub.execute_input": "2022-04-28T06:46:30.512640Z",
     "iopub.status.busy": "2022-04-28T06:46:30.511785Z",
     "iopub.status.idle": "2022-04-28T06:46:30.518814Z",
     "shell.execute_reply": "2022-04-28T06:46:30.519257Z",
     "shell.execute_reply.started": "2022-04-28T06:01:39.801247Z"
    },
    "papermill": {
     "duration": 0.119305,
     "end_time": "2022-04-28T06:46:30.519396",
     "exception": false,
     "start_time": "2022-04-28T06:46:30.400091",
     "status": "completed"
    },
    "tags": []
   },
   "outputs": [],
   "source": [
    "# build the vocabulary \n",
    "vocab = {}\n",
    "count = 0\n",
    "for doc in processed_docs:\n",
    "    for word in doc.split():\n",
    "        if word not in vocab:\n",
    "            count = count +1\n",
    "            vocab[word] = count\n",
    "print(vocab)\n",
    "\n",
    "#Get one hot representation for any string based on this vocabulary. \n",
    "#If the word exists in the vocabulary, its representation is returned. \n",
    "#If not, a list of zeroes is returned for that word. \n",
    "def get_onehot_vector(somestring):\n",
    "    onehot_encoded = []\n",
    "    for word in somestring.split():\n",
    "        temp = [0]*len(vocab)\n",
    "        if word in vocab:\n",
    "            temp[vocab[word]-1] = 1 # -1 is to take care of the fact indexing in array starts from 0 and not 1\n",
    "        onehot_encoded.append(temp)\n",
    "    return onehot_encoded\n",
    "\n",
    "\n",
    "print('-------------------------------------------------')\n",
    "print(processed_docs[1])\n",
    "print('-------------------------------------------------')\n",
    "print(get_onehot_vector(processed_docs[1])) #one hot representation for a text from our corpus.\n",
    "print('---------------------------------------------------')\n",
    "#try your own words\n",
    "get_onehot_vector(\"man and man are good\") "
   ]
  },
  {
   "cell_type": "markdown",
   "id": "ec73a188",
   "metadata": {
    "papermill": {
     "duration": 0.106463,
     "end_time": "2022-04-28T06:46:30.732548",
     "exception": false,
     "start_time": "2022-04-28T06:46:30.626085",
     "status": "completed"
    },
    "tags": []
   },
   "source": [
    "## **Scikit-learn pack - OHE**"
   ]
  },
  {
   "cell_type": "code",
   "execution_count": null,
   "id": "4a7761f1",
   "metadata": {
    "execution": {
     "iopub.execute_input": "2022-04-28T06:46:30.951821Z",
     "iopub.status.busy": "2022-04-28T06:46:30.951282Z",
     "iopub.status.idle": "2022-04-28T06:46:30.958705Z",
     "shell.execute_reply": "2022-04-28T06:46:30.958291Z",
     "shell.execute_reply.started": "2022-04-28T06:01:39.819156Z"
    },
    "papermill": {
     "duration": 0.120045,
     "end_time": "2022-04-28T06:46:30.958822",
     "exception": false,
     "start_time": "2022-04-28T06:46:30.838777",
     "status": "completed"
    },
    "tags": []
   },
   "outputs": [],
   "source": [
    "S1 = 'dog bites man'\n",
    "S2 = 'man bites dog'\n",
    "S3 = 'dog eats meat'\n",
    "S4 = 'man eats food'\n",
    "\n",
    "from sklearn.preprocessing import LabelEncoder, OneHotEncoder\n",
    "\n",
    "data = [S1.split(), S2.split(), S3.split(), S4.split()]\n",
    "values = data[0]+data[1]+data[2]+data[3]\n",
    "print(\"The data: \",values)\n",
    "print('-------------------------------------------------')\n",
    "\n",
    "#Label Encoding\n",
    "label_encoder = LabelEncoder()\n",
    "integer_encoded = label_encoder.fit_transform(values)\n",
    "print(\"Label Encoded:\",integer_encoded)\n",
    "print('----------------------------------------------------')\n",
    "\n",
    "#One-Hot Encoding\n",
    "onehot_encoder = OneHotEncoder()\n",
    "onehot_encoded = onehot_encoder.fit_transform(data).toarray()\n",
    "print(\"Onehot Encoded Matrix:\\n\",onehot_encoded)"
   ]
  },
  {
   "cell_type": "markdown",
   "id": "c55e9c34",
   "metadata": {
    "papermill": {
     "duration": 0.106627,
     "end_time": "2022-04-28T06:46:31.172289",
     "exception": false,
     "start_time": "2022-04-28T06:46:31.065662",
     "status": "completed"
    },
    "tags": []
   },
   "source": [
    "## **13.2. Bag of words**\n",
    "\n",
    "A bag of words is a representation of text that describes the occurrence of words within a document. We just keep track of word counts and disregard the grammatical details and the word order. It is called a “bag” of words because any information about the order or structure of words in the document is discarded. The model is only concerned with whether known words occur in the document, not where in the document.\n",
    "\n",
    "\n",
    "<img src='https://external-content.duckduckgo.com/iu/?u=https%3A%2F%2Feditor.analyticsvidhya.com%2Fuploads%2F34521bagofwords.jpg&f=1&nofb=1'>"
   ]
  },
  {
   "cell_type": "code",
   "execution_count": null,
   "id": "d73d7cc6",
   "metadata": {
    "execution": {
     "iopub.execute_input": "2022-04-28T06:46:31.396424Z",
     "iopub.status.busy": "2022-04-28T06:46:31.395837Z",
     "iopub.status.idle": "2022-04-28T06:46:31.399668Z",
     "shell.execute_reply": "2022-04-28T06:46:31.399194Z",
     "shell.execute_reply.started": "2022-04-28T06:01:39.834303Z"
    },
    "papermill": {
     "duration": 0.121894,
     "end_time": "2022-04-28T06:46:31.399790",
     "exception": false,
     "start_time": "2022-04-28T06:46:31.277896",
     "status": "completed"
    },
    "tags": []
   },
   "outputs": [],
   "source": [
    "#Now, let's do the main task of finding bag of words representation. We will use CountVectorizer from sklearn.\n",
    "\n",
    "from sklearn.feature_extraction.text import CountVectorizer\n",
    "\n",
    "#look at the documents list\n",
    "print(\"Our corpus: \", processed_docs)\n",
    "\n",
    "count_vect = CountVectorizer()\n",
    "#Build a BOW representation for the corpus\n",
    "bow_rep = count_vect.fit_transform(processed_docs)\n",
    "\n",
    "#Look at the vocabulary mapping\n",
    "print(\"Our vocabulary: \", count_vect.vocabulary_)\n",
    "\n",
    "#see the BOW rep for first 2 documents\n",
    "print(\"BoW representation for 'dog bites man': \", bow_rep[0].toarray())\n",
    "print(\"BoW representation for 'man bites dog: \",bow_rep[1].toarray())\n",
    "\n",
    "#Get the representation using this vocabulary, for a new text\n",
    "temp = count_vect.transform([\"dog and man are friends\"])\n",
    "print(\"Bow representation for 'dog bites are friends':\", temp.toarray())\n"
   ]
  },
  {
   "cell_type": "code",
   "execution_count": null,
   "id": "2dedd09a",
   "metadata": {
    "execution": {
     "iopub.execute_input": "2022-04-28T06:46:31.625282Z",
     "iopub.status.busy": "2022-04-28T06:46:31.624658Z",
     "iopub.status.idle": "2022-04-28T06:46:31.627453Z",
     "shell.execute_reply": "2022-04-28T06:46:31.627855Z",
     "shell.execute_reply.started": "2022-04-28T06:01:39.84955Z"
    },
    "papermill": {
     "duration": 0.119097,
     "end_time": "2022-04-28T06:46:31.627986",
     "exception": false,
     "start_time": "2022-04-28T06:46:31.508889",
     "status": "completed"
    },
    "tags": []
   },
   "outputs": [],
   "source": [
    "#In the above code, we represented the text considering the frequency of words into account. However, sometimes, we don't care about frequency much, but only want to know whether a word appeared in a text or not. That is, each document is represented as a vector of 0s and 1s. We will use the option binary=True in CountVectorizer for this purpose.\n",
    "#BoW with binary vectors\n",
    "count_vect = CountVectorizer(binary=True)\n",
    "count_vect.fit(processed_docs)\n",
    "temp = count_vect.transform([\"dog man are friends\"])\n",
    "print(\"Bow representation for 'dog bites man are friends':\", temp.toarray())\n"
   ]
  },
  {
   "cell_type": "markdown",
   "id": "41009069",
   "metadata": {
    "papermill": {
     "duration": 0.112831,
     "end_time": "2022-04-28T06:46:31.856263",
     "exception": false,
     "start_time": "2022-04-28T06:46:31.743432",
     "status": "completed"
    },
    "tags": []
   },
   "source": [
    "## **13.3 Bag of N-Gram**\n",
    "\n",
    "One hot encoding, BoW and TF-IDF treat words as independent units. There is no notion of phrases or word ordering. Bag of Ngrams (BoN) approach tries to remedy this. It does so by breaking text into chunks of n countigous words/tokens. This can help us capture some context, which earlier approaches could not do\n",
    "\n",
    "Example:\n",
    "\n",
    "So, the respective vectors for these sentences are:\n",
    "\n",
    "“This is a good job. I will not miss it for anything”=[1,1,1,1,0]\n",
    "\n",
    "”This is not good at all”=[1,0,0,1,1]\n",
    "\n",
    "Can you guess what is the problem here? Sentence 2 is a negative sentence and sentence 1 is a positive sentence. Does this reflect in any way in the vectors above? Not at all. So how can we solve this problem? Here come the N-grams to our rescue.\n",
    "\n",
    "An N-gram is an N-token sequence of words: a 2-gram (more commonly called a bigram) is a two-word sequence of words like “really good”, “not good”, or “your homework”, and a 3-gram (more commonly called a trigram) is a three-word sequence of words like “not at all”, or “turn off light”.\n",
    "\n",
    "<img src = 'https://external-content.duckduckgo.com/iu/?u=http%3A%2F%2Fconglang.github.io%2Fimg%2Fml_feature_extraction_ngram.png&f=1&nofb=1'>"
   ]
  },
  {
   "cell_type": "code",
   "execution_count": null,
   "id": "40b0b9e0",
   "metadata": {
    "execution": {
     "iopub.execute_input": "2022-04-28T06:46:32.097319Z",
     "iopub.status.busy": "2022-04-28T06:46:32.096686Z",
     "iopub.status.idle": "2022-04-28T06:46:32.102433Z",
     "shell.execute_reply": "2022-04-28T06:46:32.101944Z",
     "shell.execute_reply.started": "2022-04-28T06:01:39.859495Z"
    },
    "papermill": {
     "duration": 0.129242,
     "end_time": "2022-04-28T06:46:32.102552",
     "exception": false,
     "start_time": "2022-04-28T06:46:31.973310",
     "status": "completed"
    },
    "tags": []
   },
   "outputs": [],
   "source": [
    "from sklearn.feature_extraction.text import CountVectorizer\n",
    "\n",
    "#Ngram vectorization example with count vectorizer and uni, bi, trigrams\n",
    "count_vect = CountVectorizer(ngram_range=(1,3))\n",
    "\n",
    "#Build a BOW representation for the corpus\n",
    "bow_rep = count_vect.fit_transform(processed_docs)\n",
    "\n",
    "#Look at the vocabulary mapping\n",
    "print(\"Our vocabulary: \", count_vect.vocabulary_)\n",
    "\n",
    "#see the BOW rep for first 2 documents\n",
    "print(\"BoW representation for 'dog bites man': \", bow_rep[0].toarray())\n",
    "print(\"BoW representation for 'man bites dog: \",bow_rep[1].toarray())\n",
    "\n",
    "#Get the representation using this vocabulary, for a new text\n",
    "temp = count_vect.transform([\"dog and dog are friends\"])\n",
    "\n",
    "print(\"Bow representation for 'dog and dog are friends':\", temp.toarray())\n",
    "\n",
    "#Note that the number of features (and hence the size of the feature vector) increased a lot for the same data, compared to the ther single word based representations!!"
   ]
  },
  {
   "cell_type": "markdown",
   "id": "56d7fd98",
   "metadata": {
    "papermill": {
     "duration": 0.110827,
     "end_time": "2022-04-28T06:46:32.325609",
     "exception": false,
     "start_time": "2022-04-28T06:46:32.214782",
     "status": "completed"
    },
    "tags": []
   },
   "source": [
    "## **13.4. TF-IDF**\n",
    "\n",
    "***In all the other approaches we saw so far, all the words in the text are treated equally important. There is no notion of some words in the document being more important than others. TF-IDF addresses this issue. It aims to quantify the importance of a given word relative to other words in the document and in the corpus. It was commonly used representation scheme for information retrieval systems, for extracting relevant documents from a corpus for given text query.***\n",
    "\n",
    "TF-IDF for a word in a document is calculated by multiplying two different metrics:\n",
    "\n",
    "**The term frequency (TF)** of a word in a document. There are several ways of calculating this frequency, with the simplest being a raw count of instances a word appears in a document. Then, there are other ways to adjust the frequency. For example, by dividing the raw count of instances of a word by either length of the document, or by the raw frequency of the most frequent word in the document. The formula to calculate Term-Frequency is\n",
    "\n",
    "**TF(i,j)=n(i,j)/Σ n(i,j)**\n",
    "\n",
    "Where,\n",
    "\n",
    "n(i,j )= number of times nth word  occurred in a document\n",
    "Σn(i,j) = total number of words in a document. \n",
    "\n",
    "**The inverse document frequency(IDF)** of the word across a set of documents. This suggests how common or rare a word is in the entire document set. The closer it is to 0, the more common is the word. This metric can be calculated by taking the total number of documents, dividing it by the number of documents that contain a word, and calculating the logarithm.\n",
    "\n",
    "<img align = 'center' src=\"https://mungingdata.files.wordpress.com/2017/11/equation.png?w=430&h=336\">"
   ]
  },
  {
   "cell_type": "code",
   "execution_count": null,
   "id": "a48ffadb",
   "metadata": {
    "execution": {
     "iopub.execute_input": "2022-04-28T06:46:32.561686Z",
     "iopub.status.busy": "2022-04-28T06:46:32.560402Z",
     "iopub.status.idle": "2022-04-28T06:46:32.568892Z",
     "shell.execute_reply": "2022-04-28T06:46:32.568461Z",
     "shell.execute_reply.started": "2022-04-28T06:01:39.874476Z"
    },
    "papermill": {
     "duration": 0.130838,
     "end_time": "2022-04-28T06:46:32.569012",
     "exception": false,
     "start_time": "2022-04-28T06:46:32.438174",
     "status": "completed"
    },
    "tags": []
   },
   "outputs": [],
   "source": [
    "from sklearn.feature_extraction.text import TfidfVectorizer\n",
    "\n",
    "documents = [\"vk hit bat.\", \"vk ran street.\", \"Dog eats carrot.\", \"vk dog love very much in vk.\"]\n",
    "processed_docs = [doc.lower().replace(\".\",\"\") for doc in documents]\n",
    "print(\"processed_docs:\",processed_docs)\n",
    "print('-----------------------------------------------------')\n",
    "print('')\n",
    "#Initialize the TFIDF\n",
    "tfidf = TfidfVectorizer()\n",
    "bow_rep_tfidf = tfidf.fit_transform(processed_docs)\n",
    "\n",
    "#IDF for all words in the vocabulary\n",
    "print(\"IDF for all words in the vocabulary\",tfidf.idf_)\n",
    "print(\"-\"*10)\n",
    "#All words in the vocabulary.\n",
    "print(\"All words in the vocabulary\",tfidf.get_feature_names())\n",
    "print(\"-\"*10)\n",
    "\n",
    "#TFIDF representation for all documents in our corpus \n",
    "print(\"TFIDF representation for all documents in our corpus\\n\",bow_rep_tfidf.toarray()) \n",
    "print(\"-\"*10)\n",
    "\n",
    "temp = tfidf.transform([\"vk and dog are friends\"])\n",
    "print(\"Tfidf representation for 'dog and vk are friends':\\n\", temp.toarray())\n"
   ]
  },
  {
   "cell_type": "markdown",
   "id": "028903e8",
   "metadata": {
    "papermill": {
     "duration": 0.107049,
     "end_time": "2022-04-28T06:46:32.786061",
     "exception": false,
     "start_time": "2022-04-28T06:46:32.679012",
     "status": "completed"
    },
    "tags": []
   },
   "source": [
    "# **13.5. Word Embedding**\n",
    "\n",
    "Word embeddings are an approach to representing text in NLP. In this notebook we will demonstrate how to train embeddings using Genism. \n",
    "\n",
    "one of the great reference: https://towardsdatascience.com/word2vec-explained-49c52b4ccb71"
   ]
  },
  {
   "cell_type": "code",
   "execution_count": null,
   "id": "562d7597",
   "metadata": {
    "_kg_hide-input": true,
    "_kg_hide-output": true,
    "execution": {
     "iopub.execute_input": "2022-04-28T06:46:33.011564Z",
     "iopub.status.busy": "2022-04-28T06:46:33.010980Z",
     "iopub.status.idle": "2022-04-28T06:47:27.273058Z",
     "shell.execute_reply": "2022-04-28T06:47:27.273753Z",
     "shell.execute_reply.started": "2022-04-28T06:01:39.894356Z"
    },
    "papermill": {
     "duration": 54.380619,
     "end_time": "2022-04-28T06:47:27.273911",
     "exception": false,
     "start_time": "2022-04-28T06:46:32.893292",
     "status": "completed"
    },
    "tags": []
   },
   "outputs": [],
   "source": [
    "!pip install gensim==3.6.0\n",
    "!pip install requests==2.23.0\n"
   ]
  },
  {
   "cell_type": "code",
   "execution_count": null,
   "id": "bd9963f3",
   "metadata": {
    "execution": {
     "iopub.execute_input": "2022-04-28T06:47:27.575751Z",
     "iopub.status.busy": "2022-04-28T06:47:27.574919Z",
     "iopub.status.idle": "2022-04-28T06:47:27.684625Z",
     "shell.execute_reply": "2022-04-28T06:47:27.684102Z",
     "shell.execute_reply.started": "2022-04-28T06:01:56.828591Z"
    },
    "papermill": {
     "duration": 0.261272,
     "end_time": "2022-04-28T06:47:27.684758",
     "exception": false,
     "start_time": "2022-04-28T06:47:27.423486",
     "status": "completed"
    },
    "tags": []
   },
   "outputs": [],
   "source": [
    "from gensim.models import Word2Vec\n",
    "import warnings\n",
    "warnings.filterwarnings('ignore')"
   ]
  },
  {
   "cell_type": "code",
   "execution_count": null,
   "id": "e265fae9",
   "metadata": {
    "execution": {
     "iopub.execute_input": "2022-04-28T06:47:28.007611Z",
     "iopub.status.busy": "2022-04-28T06:47:28.006754Z",
     "iopub.status.idle": "2022-04-28T06:47:28.034925Z",
     "shell.execute_reply": "2022-04-28T06:47:28.033905Z",
     "shell.execute_reply.started": "2022-04-28T06:01:56.836958Z"
    },
    "papermill": {
     "duration": 0.195218,
     "end_time": "2022-04-28T06:47:28.035071",
     "exception": false,
     "start_time": "2022-04-28T06:47:27.839853",
     "status": "completed"
    },
    "tags": []
   },
   "outputs": [],
   "source": [
    "# define training data\n",
    "#Genism word2vec requires that a format of ‘list of lists’ be provided for training where every document contained in a list.\n",
    "#Every list contains lists of tokens of that document.\n",
    "corpus = [['vk','birds','dog','bites','man'], [\"man\", \"bites\" ,\"dog\",\"love\"],[\"dog\",\"eats\",\"meat\",\"cat\"],[\"man\", \"eats\",\"food\"]]\n",
    "\n",
    "#Training the model\n",
    "model_cbow = Word2Vec(corpus, min_count=1,sg=0) #using CBOW Architecture for trainnig\n",
    "model_skipgram = Word2Vec(corpus, min_count=1,sg=1)#using skipGram Architecture for training \n"
   ]
  },
  {
   "cell_type": "markdown",
   "id": "6cc39c16",
   "metadata": {
    "papermill": {
     "duration": 0.15237,
     "end_time": "2022-04-28T06:47:28.340668",
     "exception": false,
     "start_time": "2022-04-28T06:47:28.188298",
     "status": "completed"
    },
    "tags": []
   },
   "source": [
    "### ***There are two main architectures which yield the success of word2vec. The skip-gram and CBOW architectures***\n",
    "\n",
    "## **13.5.1 CBOW (Continuous BOW)**\n",
    "\n",
    "This architecture is very similar to a feed forward neural network. This model architecture essentially tries to predict a target word from a list of context words.\n",
    "\n",
    "<img src='https://miro.medium.com/max/392/1*_8Ul4ICaCtmZWPrWqH32Ow.png'>"
   ]
  },
  {
   "cell_type": "code",
   "execution_count": null,
   "id": "11af218f",
   "metadata": {
    "execution": {
     "iopub.execute_input": "2022-04-28T06:47:28.649234Z",
     "iopub.status.busy": "2022-04-28T06:47:28.648363Z",
     "iopub.status.idle": "2022-04-28T06:47:28.655077Z",
     "shell.execute_reply": "2022-04-28T06:47:28.654504Z",
     "shell.execute_reply.started": "2022-04-28T06:01:56.892741Z"
    },
    "papermill": {
     "duration": 0.164078,
     "end_time": "2022-04-28T06:47:28.655251",
     "exception": false,
     "start_time": "2022-04-28T06:47:28.491173",
     "status": "completed"
    },
    "tags": []
   },
   "outputs": [],
   "source": [
    "#Summarize the loaded model\n",
    "print(model_cbow)\n",
    "\n",
    "#Summarize vocabulary\n",
    "words = list(model_cbow.wv.vocab)\n",
    "print(words)\n",
    "\n",
    "#Acess vector for one word\n",
    "print(model_cbow['dog'])\n"
   ]
  },
  {
   "cell_type": "code",
   "execution_count": null,
   "id": "8cd852d0",
   "metadata": {
    "execution": {
     "iopub.execute_input": "2022-04-28T06:47:29.013699Z",
     "iopub.status.busy": "2022-04-28T06:47:29.012695Z",
     "iopub.status.idle": "2022-04-28T06:47:29.026828Z",
     "shell.execute_reply": "2022-04-28T06:47:29.027867Z",
     "shell.execute_reply.started": "2022-04-28T06:01:56.90237Z"
    },
    "papermill": {
     "duration": 0.216772,
     "end_time": "2022-04-28T06:47:29.028290",
     "exception": false,
     "start_time": "2022-04-28T06:47:28.811518",
     "status": "completed"
    },
    "tags": []
   },
   "outputs": [],
   "source": [
    "#Compute similarity \n",
    "print(\"Similarity between eats and bites,vk:\",model_cbow.similarity('eats',\"dog\"))\n",
    "print(\"Similarity between eats and man, dog:\",model_cbow.similarity('eats','vk'))\n",
    "print('------------------------------------')\n",
    "print('')\n",
    "#Most similarity\n",
    "print(model_cbow.most_similar('meat'))\n",
    "print('-----------------------------------')\n",
    "print('')\n",
    "\n",
    "# save model\n",
    "model_cbow.save('model_cbow.bin')\n",
    "print('---------------------------------------')\n",
    "print('')\n",
    "# load model\n",
    "new_model_cbow = Word2Vec.load('model_cbow.bin')\n",
    "print(new_model_cbow)\n"
   ]
  },
  {
   "cell_type": "markdown",
   "id": "6dadbf79",
   "metadata": {
    "papermill": {
     "duration": 0.232987,
     "end_time": "2022-04-28T06:47:29.537738",
     "exception": false,
     "start_time": "2022-04-28T06:47:29.304751",
     "status": "completed"
    },
    "tags": []
   },
   "source": [
    "## **13.5.2.Skipgram**\n",
    "\n",
    "In skipgram, the task is to predict the context words from the center word.\n",
    "\n",
    "'This model essentially tries to learn and predict the context words around the specified input word'\n",
    "\n",
    "\n",
    "<img src='https://miro.medium.com/max/700/1*M6UxaLSbNMeoDFWRN_kPeQ.png'>"
   ]
  },
  {
   "cell_type": "code",
   "execution_count": null,
   "id": "b03842fc",
   "metadata": {
    "execution": {
     "iopub.execute_input": "2022-04-28T06:47:29.845359Z",
     "iopub.status.busy": "2022-04-28T06:47:29.844489Z",
     "iopub.status.idle": "2022-04-28T06:47:29.855766Z",
     "shell.execute_reply": "2022-04-28T06:47:29.856490Z",
     "shell.execute_reply.started": "2022-04-28T06:01:56.923405Z"
    },
    "papermill": {
     "duration": 0.170385,
     "end_time": "2022-04-28T06:47:29.856701",
     "exception": false,
     "start_time": "2022-04-28T06:47:29.686316",
     "status": "completed"
    },
    "tags": []
   },
   "outputs": [],
   "source": [
    "#Summarize the loaded model\n",
    "print(model_skipgram)\n",
    "print('-------------------------------------------------')\n",
    "print('')\n",
    "#Summarize vocabulary\n",
    "words = list(model_skipgram.wv.vocab)\n",
    "print(words)\n",
    "print('-------------------------------------------------')\n",
    "print('')\n",
    "\n",
    "#Acess vector for one word\n",
    "print(model_skipgram['dog'])\n",
    "print('-------------------------------------------------')\n",
    "print('')\n",
    "\n",
    "#Compute similarity \n",
    "print(\"Similarity between eats and bites:\",model_skipgram.similarity('eats', 'bites'))\n",
    "print(\"Similarity between eats and man:\",model_skipgram.similarity('eats', 'man'))\n",
    "print('-------------------------------------------------')\n",
    "print('')\n",
    "#Most similarity\n",
    "print(model_skipgram.most_similar('meat'))\n",
    "print('-------------------------------------------------')\n",
    "print('')\n",
    "\n",
    "# save model\n",
    "model_skipgram.save('model_skipgram.bin')\n",
    "\n",
    "# load model\n",
    "new_model_skipgram = Word2Vec.load('model_skipgram.bin')\n",
    "print(new_model_skipgram)"
   ]
  },
  {
   "cell_type": "markdown",
   "id": "d5cb330d",
   "metadata": {
    "papermill": {
     "duration": 0.156386,
     "end_time": "2022-04-28T06:47:30.180704",
     "exception": false,
     "start_time": "2022-04-28T06:47:30.024318",
     "status": "completed"
    },
    "tags": []
   },
   "source": [
    "## **13.5.3 DOC2VEC**\n",
    "\n",
    "**Everyone got onedoubt in doc2vec and word2vec! same thing happen me! this pic easily know what happen in two process i think**\n",
    "\n",
    "Doc2Vec is another widely used technique that creates an embedding of a document irrespective to its length. While Word2Vec computes a feature vector for every word in the corpus, Doc2Vec computes a feature vector for every document in the corpus\n",
    "\n",
    "<img src='https://media.springernature.com/full/springer-static/image/art%3A10.1186%2Fs40537-018-0139-2/MediaObjects/40537_2018_139_Fig8_HTML.png'>"
   ]
  },
  {
   "cell_type": "code",
   "execution_count": null,
   "id": "70ba0a2a",
   "metadata": {
    "_kg_hide-input": true,
    "execution": {
     "iopub.execute_input": "2022-04-28T06:47:30.494717Z",
     "iopub.status.busy": "2022-04-28T06:47:30.493888Z",
     "iopub.status.idle": "2022-04-28T06:47:30.826752Z",
     "shell.execute_reply": "2022-04-28T06:47:30.827169Z",
     "shell.execute_reply.started": "2022-04-28T06:01:56.948102Z"
    },
    "papermill": {
     "duration": 0.493856,
     "end_time": "2022-04-28T06:47:30.827316",
     "exception": false,
     "start_time": "2022-04-28T06:47:30.333460",
     "status": "completed"
    },
    "tags": []
   },
   "outputs": [],
   "source": [
    "import warnings\n",
    "warnings.filterwarnings('ignore')\n",
    "from gensim.models.doc2vec import Doc2Vec, TaggedDocument\n",
    "from nltk.tokenize import word_tokenize\n",
    "from pprint import pprint\n",
    "import nltk\n",
    "nltk.download('punkt')"
   ]
  },
  {
   "cell_type": "code",
   "execution_count": null,
   "id": "331aae3b",
   "metadata": {
    "_kg_hide-input": true,
    "execution": {
     "iopub.execute_input": "2022-04-28T06:47:31.136520Z",
     "iopub.status.busy": "2022-04-28T06:47:31.135786Z",
     "iopub.status.idle": "2022-04-28T06:47:31.138605Z",
     "shell.execute_reply": "2022-04-28T06:47:31.139004Z",
     "shell.execute_reply.started": "2022-04-28T06:01:56.96116Z"
    },
    "papermill": {
     "duration": 0.160188,
     "end_time": "2022-04-28T06:47:31.139169",
     "exception": false,
     "start_time": "2022-04-28T06:47:30.978981",
     "status": "completed"
    },
    "tags": []
   },
   "outputs": [],
   "source": [
    "data = [\"vk love nature\",\n",
    "        \"vk love dogs\",\n",
    "        \"dog eats carrot\",\n",
    "        \"vk eats food\"]\n",
    "tagged_data = [TaggedDocument(words=word_tokenize(word.lower()), tags=[str(i)]) for i, word in enumerate(data)]\n",
    "tagged_data"
   ]
  },
  {
   "cell_type": "code",
   "execution_count": null,
   "id": "b540b034",
   "metadata": {
    "execution": {
     "iopub.execute_input": "2022-04-28T06:47:31.451321Z",
     "iopub.status.busy": "2022-04-28T06:47:31.450546Z",
     "iopub.status.idle": "2022-04-28T06:47:31.463962Z",
     "shell.execute_reply": "2022-04-28T06:47:31.463488Z",
     "shell.execute_reply.started": "2022-04-28T06:01:56.972783Z"
    },
    "papermill": {
     "duration": 0.171143,
     "end_time": "2022-04-28T06:47:31.464102",
     "exception": false,
     "start_time": "2022-04-28T06:47:31.292959",
     "status": "completed"
    },
    "tags": []
   },
   "outputs": [],
   "source": [
    "#dbow\n",
    "model_dbow = Doc2Vec(tagged_data,vector_size=20, min_count=1, epochs=2,dm=0)\n",
    "print(model_dbow.infer_vector(['vk','eats','meat']))#feature vector of man eats food\n"
   ]
  },
  {
   "cell_type": "code",
   "execution_count": null,
   "id": "fb4d3dbe",
   "metadata": {
    "execution": {
     "iopub.execute_input": "2022-04-28T06:47:31.779887Z",
     "iopub.status.busy": "2022-04-28T06:47:31.779042Z",
     "iopub.status.idle": "2022-04-28T06:47:31.785724Z",
     "shell.execute_reply": "2022-04-28T06:47:31.785210Z",
     "shell.execute_reply.started": "2022-04-28T06:01:56.997859Z"
    },
    "papermill": {
     "duration": 0.165095,
     "end_time": "2022-04-28T06:47:31.785854",
     "exception": false,
     "start_time": "2022-04-28T06:47:31.620759",
     "status": "completed"
    },
    "tags": []
   },
   "outputs": [],
   "source": [
    "model_dbow.wv.most_similar(\"vk\",topn=5)#top 5 most simlar words."
   ]
  },
  {
   "cell_type": "code",
   "execution_count": null,
   "id": "6a8a7089",
   "metadata": {
    "execution": {
     "iopub.execute_input": "2022-04-28T06:47:32.119865Z",
     "iopub.status.busy": "2022-04-28T06:47:32.119173Z",
     "iopub.status.idle": "2022-04-28T06:47:32.122140Z",
     "shell.execute_reply": "2022-04-28T06:47:32.122596Z",
     "shell.execute_reply.started": "2022-04-28T06:01:57.008371Z"
    },
    "papermill": {
     "duration": 0.175618,
     "end_time": "2022-04-28T06:47:32.122743",
     "exception": false,
     "start_time": "2022-04-28T06:47:31.947125",
     "status": "completed"
    },
    "tags": []
   },
   "outputs": [],
   "source": [
    "model_dbow.wv.n_similarity([\"dog\"],[\"vk\"])"
   ]
  },
  {
   "cell_type": "code",
   "execution_count": null,
   "id": "367fedaa",
   "metadata": {
    "execution": {
     "iopub.execute_input": "2022-04-28T06:47:32.436296Z",
     "iopub.status.busy": "2022-04-28T06:47:32.435347Z",
     "iopub.status.idle": "2022-04-28T06:47:32.453300Z",
     "shell.execute_reply": "2022-04-28T06:47:32.452598Z",
     "shell.execute_reply.started": "2022-04-28T06:01:57.017916Z"
    },
    "papermill": {
     "duration": 0.177286,
     "end_time": "2022-04-28T06:47:32.453495",
     "exception": false,
     "start_time": "2022-04-28T06:47:32.276209",
     "status": "completed"
    },
    "tags": []
   },
   "outputs": [],
   "source": [
    "#dm\n",
    "model_dm = Doc2Vec(tagged_data, min_count=1, vector_size=20, epochs=2,dm=1)\n",
    "\n",
    "print(\"Inference Vector of vk eats food\\n \",model_dm.infer_vector(['vk','eats','food']))\n",
    "\n",
    "print(\"Most similar words to vk in our corpus\\n\",model_dm.wv.most_similar(\"vk\",topn=5))\n",
    "print(\"Similarity between vk and dog: \",model_dm.wv.n_similarity([\"dog\"],[\"vk\"]))\n"
   ]
  },
  {
   "cell_type": "markdown",
   "id": "859fcb29",
   "metadata": {
    "papermill": {
     "duration": 0.153437,
     "end_time": "2022-04-28T06:47:32.772712",
     "exception": false,
     "start_time": "2022-04-28T06:47:32.619275",
     "status": "completed"
    },
    "tags": []
   },
   "source": [
    "## **13.5.4 T-SNE visualize embedding**\n",
    "\n",
    "T-SNE algorithm to visualize embeddings. This is a nice cheap technique for understanding the nature of your embeddings.\n",
    "\n",
    "\n",
    "### ***I am taking competition data and visualize***\n",
    "\n",
    "Reference: \n",
    "1. https://www.kaggle.com/code/colinmorris/visualizing-embeddings-with-t-sne/notebook\n",
    "\n",
    "2. https://www.kaggle.com/code/jeffd23/visualizing-word-vectors-with-t-sne/notebook"
   ]
  },
  {
   "cell_type": "code",
   "execution_count": null,
   "id": "5c0df94c",
   "metadata": {
    "_kg_hide-input": true,
    "execution": {
     "iopub.execute_input": "2022-04-28T06:47:33.100836Z",
     "iopub.status.busy": "2022-04-28T06:47:33.100104Z",
     "iopub.status.idle": "2022-04-28T06:47:33.198517Z",
     "shell.execute_reply": "2022-04-28T06:47:33.198922Z",
     "shell.execute_reply.started": "2022-04-28T06:01:57.048315Z"
    },
    "papermill": {
     "duration": 0.262895,
     "end_time": "2022-04-28T06:47:33.199080",
     "exception": false,
     "start_time": "2022-04-28T06:47:32.936185",
     "status": "completed"
    },
    "tags": []
   },
   "outputs": [],
   "source": [
    "import pandas as pd\n",
    "pd.options.mode.chained_assignment = None \n",
    "import numpy as np\n",
    "import re\n",
    "import nltk\n",
    "\n",
    "from gensim.models import word2vec\n",
    "\n",
    "from sklearn.manifold import TSNE\n",
    "import matplotlib.pyplot as plt\n",
    "%matplotlib inline\n",
    "\n",
    "# import zipfile\n",
    "# with zipfile.ZipFile('../input/quora-question-pairs/train.csv.zip', 'r') as zip_ref:\n",
    "#     zip_ref.extractall()\n",
    "\n",
    "\n",
    "# data = pd.read_csv('./train.csv').sample(50000, random_state=23)\n",
    "data = pd.read_csv('../input/us-patent-phrase-to-phrase-matching/train.csv')"
   ]
  },
  {
   "cell_type": "code",
   "execution_count": null,
   "id": "ea145a7c",
   "metadata": {
    "_kg_hide-input": true,
    "execution": {
     "iopub.execute_input": "2022-04-28T06:47:33.512088Z",
     "iopub.status.busy": "2022-04-28T06:47:33.511411Z",
     "iopub.status.idle": "2022-04-28T06:47:43.525648Z",
     "shell.execute_reply": "2022-04-28T06:47:43.525218Z",
     "shell.execute_reply.started": "2022-04-28T06:01:57.119847Z"
    },
    "papermill": {
     "duration": 10.171672,
     "end_time": "2022-04-28T06:47:43.525771",
     "exception": false,
     "start_time": "2022-04-28T06:47:33.354099",
     "status": "completed"
    },
    "tags": []
   },
   "outputs": [],
   "source": [
    "STOP_WORDS = nltk.corpus.stopwords.words()\n",
    "\n",
    "def clean_sentence(val):\n",
    "    \"remove chars that are not letters or numbers, downcase, then remove stop words\"\n",
    "    regex = re.compile('([^\\s\\w]|_)+')\n",
    "    sentence = regex.sub('', val).lower()\n",
    "    sentence = sentence.split(\" \")\n",
    "    \n",
    "    for word in list(sentence):\n",
    "        if word in STOP_WORDS:\n",
    "            sentence.remove(word)  \n",
    "            \n",
    "    sentence = \" \".join(sentence)\n",
    "    return sentence\n",
    "\n",
    "def clean_dataframe(data):\n",
    "    \"drop nans, then apply 'clean_sentence' function to question1 and 2\"\n",
    "    data = data.dropna(how=\"any\")\n",
    "    \n",
    "    for col in ['context', 'target']:\n",
    "        data[col] = data[col].apply(clean_sentence)\n",
    "    \n",
    "    return data\n",
    "\n",
    "data = clean_dataframe(data)\n",
    "data.head(5)"
   ]
  },
  {
   "cell_type": "code",
   "execution_count": null,
   "id": "8d37d4a8",
   "metadata": {
    "_kg_hide-input": true,
    "execution": {
     "iopub.execute_input": "2022-04-28T06:47:43.847328Z",
     "iopub.status.busy": "2022-04-28T06:47:43.846545Z",
     "iopub.status.idle": "2022-04-28T06:47:43.896450Z",
     "shell.execute_reply": "2022-04-28T06:47:43.896866Z",
     "shell.execute_reply.started": "2022-04-28T06:02:07.22697Z"
    },
    "papermill": {
     "duration": 0.216635,
     "end_time": "2022-04-28T06:47:43.897007",
     "exception": false,
     "start_time": "2022-04-28T06:47:43.680372",
     "status": "completed"
    },
    "tags": []
   },
   "outputs": [],
   "source": [
    "def build_corpus(data):\n",
    "    \"Creates a list of lists containing words from each sentence\"\n",
    "    corpus = []\n",
    "    for col in ['context','target']:\n",
    "        for sentence in data[col].iteritems():\n",
    "            word_list = sentence[1].split(\" \")\n",
    "            corpus.append(word_list)\n",
    "            \n",
    "    return corpus\n",
    "\n",
    "corpus = build_corpus(data)        \n",
    "corpus[0:2]"
   ]
  },
  {
   "cell_type": "code",
   "execution_count": null,
   "id": "1a032f43",
   "metadata": {
    "_kg_hide-input": true,
    "execution": {
     "iopub.execute_input": "2022-04-28T06:47:44.255896Z",
     "iopub.status.busy": "2022-04-28T06:47:44.250809Z",
     "iopub.status.idle": "2022-04-28T06:47:44.870532Z",
     "shell.execute_reply": "2022-04-28T06:47:44.870021Z",
     "shell.execute_reply.started": "2022-04-28T06:02:07.52532Z"
    },
    "papermill": {
     "duration": 0.804562,
     "end_time": "2022-04-28T06:47:44.870672",
     "exception": false,
     "start_time": "2022-04-28T06:47:44.066110",
     "status": "completed"
    },
    "tags": []
   },
   "outputs": [],
   "source": [
    "model = word2vec.Word2Vec(corpus, size=100, window=20, min_count=200, workers=4)\n",
    "model.wv['material']"
   ]
  },
  {
   "cell_type": "code",
   "execution_count": null,
   "id": "b2775268",
   "metadata": {
    "_kg_hide-input": true,
    "execution": {
     "iopub.execute_input": "2022-04-28T06:47:45.210679Z",
     "iopub.status.busy": "2022-04-28T06:47:45.209874Z",
     "iopub.status.idle": "2022-04-28T06:47:45.211820Z",
     "shell.execute_reply": "2022-04-28T06:47:45.212254Z",
     "shell.execute_reply.started": "2022-04-28T06:02:08.16476Z"
    },
    "papermill": {
     "duration": 0.166899,
     "end_time": "2022-04-28T06:47:45.212397",
     "exception": false,
     "start_time": "2022-04-28T06:47:45.045498",
     "status": "completed"
    },
    "tags": []
   },
   "outputs": [],
   "source": [
    "def tsne_plot(model):\n",
    "    \"Creates and TSNE model and plots it\"\n",
    "    labels = []\n",
    "    tokens = []\n",
    "\n",
    "    for word in model.wv.vocab:\n",
    "        tokens.append(model[word])\n",
    "        labels.append(word)\n",
    "    \n",
    "    tsne_model = TSNE(perplexity=40, n_components=2, init='pca', n_iter=2500, random_state=23)\n",
    "    new_values = tsne_model.fit_transform(tokens)\n",
    "\n",
    "    x = []\n",
    "    y = []\n",
    "    for value in new_values:\n",
    "        x.append(value[0])\n",
    "        y.append(value[1])\n",
    "        \n",
    "    plt.figure(figsize=(16, 16)) \n",
    "    for i in range(len(x)):\n",
    "        plt.scatter(x[i],y[i])\n",
    "        plt.annotate(labels[i],\n",
    "                     xy=(x[i], y[i]),\n",
    "                     xytext=(5, 2),\n",
    "                     textcoords='offset points',\n",
    "                     ha='right',\n",
    "                     va='bottom')\n",
    "    plt.show()"
   ]
  },
  {
   "cell_type": "code",
   "execution_count": null,
   "id": "c7b3a083",
   "metadata": {
    "_kg_hide-input": true,
    "execution": {
     "iopub.execute_input": "2022-04-28T06:47:45.532679Z",
     "iopub.status.busy": "2022-04-28T06:47:45.531754Z",
     "iopub.status.idle": "2022-04-28T06:47:47.684184Z",
     "shell.execute_reply": "2022-04-28T06:47:47.683678Z",
     "shell.execute_reply.started": "2022-04-28T06:02:08.175508Z"
    },
    "papermill": {
     "duration": 2.314584,
     "end_time": "2022-04-28T06:47:47.684303",
     "exception": false,
     "start_time": "2022-04-28T06:47:45.369719",
     "status": "completed"
    },
    "tags": []
   },
   "outputs": [],
   "source": [
    "tsne_plot(model)"
   ]
  },
  {
   "cell_type": "code",
   "execution_count": null,
   "id": "41547bf3",
   "metadata": {
    "_kg_hide-input": true,
    "execution": {
     "iopub.execute_input": "2022-04-28T06:47:48.011456Z",
     "iopub.status.busy": "2022-04-28T06:47:48.010644Z",
     "iopub.status.idle": "2022-04-28T06:47:49.502108Z",
     "shell.execute_reply": "2022-04-28T06:47:49.502539Z",
     "shell.execute_reply.started": "2022-04-28T06:02:10.257502Z"
    },
    "papermill": {
     "duration": 1.662258,
     "end_time": "2022-04-28T06:47:49.502684",
     "exception": false,
     "start_time": "2022-04-28T06:47:47.840426",
     "status": "completed"
    },
    "tags": []
   },
   "outputs": [],
   "source": [
    "# A more selective model\n",
    "model = word2vec.Word2Vec(corpus, size=100, window=20, min_count=500, workers=4)\n",
    "tsne_plot(model)"
   ]
  },
  {
   "cell_type": "code",
   "execution_count": null,
   "id": "46390098",
   "metadata": {
    "_kg_hide-input": true,
    "execution": {
     "iopub.execute_input": "2022-04-28T06:47:50.021938Z",
     "iopub.status.busy": "2022-04-28T06:47:50.018988Z",
     "iopub.status.idle": "2022-04-28T06:47:55.351150Z",
     "shell.execute_reply": "2022-04-28T06:47:55.351632Z",
     "shell.execute_reply.started": "2022-04-28T06:02:11.714017Z"
    },
    "papermill": {
     "duration": 5.601479,
     "end_time": "2022-04-28T06:47:55.351781",
     "exception": false,
     "start_time": "2022-04-28T06:47:49.750302",
     "status": "completed"
    },
    "tags": []
   },
   "outputs": [],
   "source": [
    "# A less selective model\n",
    "model = word2vec.Word2Vec(corpus, size=100, window=20, min_count=100, workers=4)\n",
    "tsne_plot(model)"
   ]
  },
  {
   "cell_type": "code",
   "execution_count": null,
   "id": "3e640880",
   "metadata": {
    "execution": {
     "iopub.execute_input": "2022-04-28T06:47:55.676367Z",
     "iopub.status.busy": "2022-04-28T06:47:55.675754Z",
     "iopub.status.idle": "2022-04-28T06:47:55.684272Z",
     "shell.execute_reply": "2022-04-28T06:47:55.684977Z",
     "shell.execute_reply.started": "2022-04-28T06:02:16.813796Z"
    },
    "papermill": {
     "duration": 0.174452,
     "end_time": "2022-04-28T06:47:55.685236",
     "exception": false,
     "start_time": "2022-04-28T06:47:55.510784",
     "status": "completed"
    },
    "tags": []
   },
   "outputs": [],
   "source": [
    "model.most_similar('material')"
   ]
  },
  {
   "cell_type": "markdown",
   "id": "3dcf4dd6",
   "metadata": {
    "papermill": {
     "duration": 0.16009,
     "end_time": "2022-04-28T06:47:56.077838",
     "exception": false,
     "start_time": "2022-04-28T06:47:55.917748",
     "status": "completed"
    },
    "tags": []
   },
   "source": [
    "## **13.5.5 FastText**\n",
    "\n",
    "FastText create Facebook research team, One of best embedded method\n",
    "\n",
    "As Word2Vec and Doc2Vec models rely on the vocabulary they had been trained on if the new text data that we want to vectorized contains words that were not previously present in the training vocabulary then these models fail to vectorized the unseen words accurately. FastText overcomes this problem.\n",
    "\n",
    "FastText does this by vectorizing each word as a combination of character n-grams. The keyword to remember when working with FastText is character n-grams. If you don’t know what n-grams are, they are a number of words taken into consideration when working with text.\n",
    "\n",
    "### ***Uses of FastText:***\n",
    "\n",
    "- Very useful for finding semantic similarities\n",
    "- Large datasets can be trained in minutes\n",
    "- Can be used for the purpose of text classification.\n",
    "\n",
    "<img src='https://kavita-ganesan.com/wp-content/uploads/fastText-vs.-Word2Vec.png'>\n",
    "\n",
    "Thus the biggest advantage of using FastText over other models such as Word2Vec is that FastText can generate embeddings for sentences with words not present in the training vocabulary with the help of character n-grams whereas other models fail to do so.\n",
    "\n",
    "Full credit-Reference: https://pythonwife.com/fasttext-in-nlp/"
   ]
  },
  {
   "cell_type": "code",
   "execution_count": null,
   "id": "5ce01c68",
   "metadata": {
    "_kg_hide-output": true,
    "execution": {
     "iopub.execute_input": "2022-04-28T06:47:56.403945Z",
     "iopub.status.busy": "2022-04-28T06:47:56.403186Z",
     "iopub.status.idle": "2022-04-28T06:48:09.488151Z",
     "shell.execute_reply": "2022-04-28T06:48:09.486943Z",
     "shell.execute_reply.started": "2022-04-28T06:02:16.824138Z"
    },
    "papermill": {
     "duration": 13.25046,
     "end_time": "2022-04-28T06:48:09.488316",
     "exception": false,
     "start_time": "2022-04-28T06:47:56.237856",
     "status": "completed"
    },
    "tags": []
   },
   "outputs": [],
   "source": [
    "!pip install gensim==4.0.1\n",
    "from gensim.models import FastText\n",
    "from gensim.test.utils import common_texts"
   ]
  },
  {
   "cell_type": "code",
   "execution_count": null,
   "id": "bdf887c2",
   "metadata": {
    "execution": {
     "iopub.execute_input": "2022-04-28T06:48:09.858849Z",
     "iopub.status.busy": "2022-04-28T06:48:09.858244Z",
     "iopub.status.idle": "2022-04-28T06:48:09.860927Z",
     "shell.execute_reply": "2022-04-28T06:48:09.861346Z",
     "shell.execute_reply.started": "2022-04-28T06:02:25.970142Z"
    },
    "papermill": {
     "duration": 0.190031,
     "end_time": "2022-04-28T06:48:09.861476",
     "exception": false,
     "start_time": "2022-04-28T06:48:09.671445",
     "status": "completed"
    },
    "tags": []
   },
   "outputs": [],
   "source": [
    "common_texts"
   ]
  },
  {
   "cell_type": "code",
   "execution_count": null,
   "id": "0a0040c2",
   "metadata": {
    "execution": {
     "iopub.execute_input": "2022-04-28T06:48:10.232372Z",
     "iopub.status.busy": "2022-04-28T06:48:10.231501Z",
     "iopub.status.idle": "2022-04-28T06:48:10.233236Z",
     "shell.execute_reply": "2022-04-28T06:48:10.233739Z",
     "shell.execute_reply.started": "2022-04-28T06:02:25.980373Z"
    },
    "papermill": {
     "duration": 0.189301,
     "end_time": "2022-04-28T06:48:10.233872",
     "exception": false,
     "start_time": "2022-04-28T06:48:10.044571",
     "status": "completed"
    },
    "tags": []
   },
   "outputs": [],
   "source": [
    "#build the model\n",
    "model1 = FastText(size=5, window=3, min_count=1)"
   ]
  },
  {
   "cell_type": "code",
   "execution_count": null,
   "id": "5498a0e1",
   "metadata": {
    "execution": {
     "iopub.execute_input": "2022-04-28T06:48:10.604111Z",
     "iopub.status.busy": "2022-04-28T06:48:10.603600Z",
     "iopub.status.idle": "2022-04-28T06:48:10.640568Z",
     "shell.execute_reply": "2022-04-28T06:48:10.639965Z",
     "shell.execute_reply.started": "2022-04-28T06:02:25.994086Z"
    },
    "papermill": {
     "duration": 0.2246,
     "end_time": "2022-04-28T06:48:10.640705",
     "exception": false,
     "start_time": "2022-04-28T06:48:10.416105",
     "status": "completed"
    },
    "tags": []
   },
   "outputs": [],
   "source": [
    "model1.build_vocab(common_texts)\n",
    "model1.train(common_texts, total_examples=len(common_texts), epochs=10)\n"
   ]
  },
  {
   "cell_type": "code",
   "execution_count": null,
   "id": "38d2e252",
   "metadata": {
    "execution": {
     "iopub.execute_input": "2022-04-28T06:48:11.026352Z",
     "iopub.status.busy": "2022-04-28T06:48:11.023755Z",
     "iopub.status.idle": "2022-04-28T06:48:11.029414Z",
     "shell.execute_reply": "2022-04-28T06:48:11.030052Z",
     "shell.execute_reply.started": "2022-04-28T06:02:26.047718Z"
    },
    "papermill": {
     "duration": 0.195126,
     "end_time": "2022-04-28T06:48:11.030269",
     "exception": false,
     "start_time": "2022-04-28T06:48:10.835143",
     "status": "completed"
    },
    "tags": []
   },
   "outputs": [],
   "source": [
    "print('Predict one word:',model1.wv['human'])\n",
    "print('---------------------------')\n",
    "print('')\n",
    "print(model1.wv.most_similar(positive=['computer','interface'], negative=['human']))"
   ]
  },
  {
   "cell_type": "markdown",
   "id": "e7a1e5a2",
   "metadata": {
    "papermill": {
     "duration": 0.186197,
     "end_time": "2022-04-28T06:48:11.410390",
     "exception": false,
     "start_time": "2022-04-28T06:48:11.224193",
     "status": "completed"
    },
    "tags": []
   },
   "source": [
    "## **13.5.6 Glove**\n",
    "\n",
    "@Ruchi Bhatia (Reference: https://www.kaggle.com/discussions/getting-started/164408)\n",
    "\n",
    "GloVe: GloVe is based on matrix factorization techniques on the word-context matrix. It first constructs a large matrix of (words x context) co-occurrence information, i.e. for each “word” (the rows), you count how frequently we see this word in some “context” (the columns) in a large corpus. The number of “contexts” is of course large, since it is essentially combinatorial in size. So then we factorize this matrix to yield a lower-dimensional (word x features) matrix, where each row now yields a vector representation for each word. In general, this is done by minimizing a “reconstruction loss”. This loss tries to find the lower-dimensional representations which can explain most of the variance in the high-dimensional data.\n",
    "\n",
    "### **Why GloVe is better than Word2Vec?**\n",
    "\n",
    "### **Rather than using a window to define local context, GloVe constructs an explicit word-context or word co-occurrence matrix using statistics across the whole text corpus. The result is a learning model that may result in generally better word embeddings.**\n",
    "\n",
    "<img src='https://miro.medium.com/max/1400/1*gcC7b_v7OKWutYN1NAHyMQ.png'>\n",
    "\n",
    "Reference: https://edumunozsala.github.io/BlogEms/jupyter/nlp/classification/embeddings/python/2020/08/15/Intro_NLP_WordEmbeddings_Classification.html"
   ]
  },
  {
   "cell_type": "markdown",
   "id": "1e997c06",
   "metadata": {
    "papermill": {
     "duration": 0.180501,
     "end_time": "2022-04-28T06:48:11.772145",
     "exception": false,
     "start_time": "2022-04-28T06:48:11.591644",
     "status": "completed"
    },
    "tags": []
   },
   "source": [
    "## **Hello Guys! I'm trying Glove embed, Build lstm model and predict output**\n",
    "\n",
    "### **Features selection: I'm simply take x is target and y is score**\n"
   ]
  },
  {
   "cell_type": "code",
   "execution_count": null,
   "id": "f59a9301",
   "metadata": {
    "_kg_hide-input": true,
    "execution": {
     "iopub.execute_input": "2022-04-28T06:48:12.153666Z",
     "iopub.status.busy": "2022-04-28T06:48:12.150356Z",
     "iopub.status.idle": "2022-04-28T06:48:16.521434Z",
     "shell.execute_reply": "2022-04-28T06:48:16.520984Z",
     "shell.execute_reply.started": "2022-04-28T06:02:26.059862Z"
    },
    "papermill": {
     "duration": 4.563615,
     "end_time": "2022-04-28T06:48:16.521559",
     "exception": false,
     "start_time": "2022-04-28T06:48:11.957944",
     "status": "completed"
    },
    "tags": []
   },
   "outputs": [],
   "source": [
    "#Here we will use GloVe pretrained corpus model to represent our words.It is available in 3 varieties :50D ,100D and 200 Dimentional.We will try 100 D here.\n",
    "\n",
    "import numpy as np\n",
    "import pandas as pd \n",
    "\n",
    "\n",
    "import os\n",
    "print(os.listdir(\"../input\"))\n",
    "\n",
    "from keras.models import Sequential\n",
    "from keras.layers import LSTM,Dense,Dropout,Embedding,CuDNNLSTM,Bidirectional\n",
    "from keras.preprocessing.text import Tokenizer\n",
    "from keras.preprocessing.sequence import pad_sequences\n",
    "from tqdm import tqdm\n",
    "import matplotlib.pyplot as plt\n",
    "import seaborn as sns\n",
    "%matplotlib inline\n",
    "\n",
    "df = pd.read_csv('../input/us-patent-phrase-to-phrase-matching/train.csv')\n",
    "df.sample(2)"
   ]
  },
  {
   "cell_type": "markdown",
   "id": "b0843e67",
   "metadata": {
    "papermill": {
     "duration": 0.190439,
     "end_time": "2022-04-28T06:48:16.893299",
     "exception": false,
     "start_time": "2022-04-28T06:48:16.702860",
     "status": "completed"
    },
    "tags": []
   },
   "source": [
    "### **Count the score attribute**"
   ]
  },
  {
   "cell_type": "code",
   "execution_count": null,
   "id": "de0a562e",
   "metadata": {
    "execution": {
     "iopub.execute_input": "2022-04-28T06:48:17.283693Z",
     "iopub.status.busy": "2022-04-28T06:48:17.282802Z",
     "iopub.status.idle": "2022-04-28T06:48:17.471933Z",
     "shell.execute_reply": "2022-04-28T06:48:17.472367Z",
     "shell.execute_reply.started": "2022-04-28T06:02:28.736481Z"
    },
    "papermill": {
     "duration": 0.382173,
     "end_time": "2022-04-28T06:48:17.472536",
     "exception": false,
     "start_time": "2022-04-28T06:48:17.090363",
     "status": "completed"
    },
    "tags": []
   },
   "outputs": [],
   "source": [
    "print(df['score'].value_counts())\n",
    "sns.countplot(df['score'])"
   ]
  },
  {
   "cell_type": "markdown",
   "id": "3744dac2",
   "metadata": {
    "papermill": {
     "duration": 0.183118,
     "end_time": "2022-04-28T06:48:17.838620",
     "exception": false,
     "start_time": "2022-04-28T06:48:17.655502",
     "status": "completed"
    },
    "tags": []
   },
   "source": [
    "### **Feature selection**"
   ]
  },
  {
   "cell_type": "code",
   "execution_count": null,
   "id": "42276a04",
   "metadata": {
    "execution": {
     "iopub.execute_input": "2022-04-28T06:48:18.222295Z",
     "iopub.status.busy": "2022-04-28T06:48:18.220725Z",
     "iopub.status.idle": "2022-04-28T06:48:18.222865Z",
     "shell.execute_reply": "2022-04-28T06:48:18.223282Z",
     "shell.execute_reply.started": "2022-04-28T06:02:28.927713Z"
    },
    "papermill": {
     "duration": 0.191049,
     "end_time": "2022-04-28T06:48:18.223419",
     "exception": false,
     "start_time": "2022-04-28T06:48:18.032370",
     "status": "completed"
    },
    "tags": []
   },
   "outputs": [],
   "source": [
    "x = df['target']\n",
    "y = df['score']"
   ]
  },
  {
   "cell_type": "markdown",
   "id": "02caed36",
   "metadata": {
    "papermill": {
     "duration": 0.182821,
     "end_time": "2022-04-28T06:48:18.593635",
     "exception": false,
     "start_time": "2022-04-28T06:48:18.410814",
     "status": "completed"
    },
    "tags": []
   },
   "source": [
    "### **Tokenize,pad,vocb the input**"
   ]
  },
  {
   "cell_type": "code",
   "execution_count": null,
   "id": "ac36c2b7",
   "metadata": {
    "execution": {
     "iopub.execute_input": "2022-04-28T06:48:19.001797Z",
     "iopub.status.busy": "2022-04-28T06:48:18.967056Z",
     "iopub.status.idle": "2022-04-28T06:48:19.556922Z",
     "shell.execute_reply": "2022-04-28T06:48:19.556414Z",
     "shell.execute_reply.started": "2022-04-28T06:02:28.934583Z"
    },
    "papermill": {
     "duration": 0.779807,
     "end_time": "2022-04-28T06:48:19.557055",
     "exception": false,
     "start_time": "2022-04-28T06:48:18.777248",
     "status": "completed"
    },
    "tags": []
   },
   "outputs": [],
   "source": [
    "token = Tokenizer()\n",
    "token.fit_on_texts(x)\n",
    "seq = token.texts_to_sequences(x)"
   ]
  },
  {
   "cell_type": "code",
   "execution_count": null,
   "id": "f7400349",
   "metadata": {
    "execution": {
     "iopub.execute_input": "2022-04-28T06:48:19.995510Z",
     "iopub.status.busy": "2022-04-28T06:48:19.994270Z",
     "iopub.status.idle": "2022-04-28T06:48:20.151569Z",
     "shell.execute_reply": "2022-04-28T06:48:20.151002Z",
     "shell.execute_reply.started": "2022-04-28T06:02:29.532697Z"
    },
    "papermill": {
     "duration": 0.385616,
     "end_time": "2022-04-28T06:48:20.151718",
     "exception": false,
     "start_time": "2022-04-28T06:48:19.766102",
     "status": "completed"
    },
    "tags": []
   },
   "outputs": [],
   "source": [
    "pad_seq = pad_sequences(seq,maxlen=300)"
   ]
  },
  {
   "cell_type": "code",
   "execution_count": null,
   "id": "08a86965",
   "metadata": {
    "execution": {
     "iopub.execute_input": "2022-04-28T06:48:20.529710Z",
     "iopub.status.busy": "2022-04-28T06:48:20.528849Z",
     "iopub.status.idle": "2022-04-28T06:48:20.530574Z",
     "shell.execute_reply": "2022-04-28T06:48:20.531057Z",
     "shell.execute_reply.started": "2022-04-28T06:02:29.693513Z"
    },
    "papermill": {
     "duration": 0.191818,
     "end_time": "2022-04-28T06:48:20.531224",
     "exception": false,
     "start_time": "2022-04-28T06:48:20.339406",
     "status": "completed"
    },
    "tags": []
   },
   "outputs": [],
   "source": [
    "vocab_size = len(token.word_index)+1"
   ]
  },
  {
   "cell_type": "markdown",
   "id": "700bcd07",
   "metadata": {
    "papermill": {
     "duration": 0.184048,
     "end_time": "2022-04-28T06:48:20.901535",
     "exception": false,
     "start_time": "2022-04-28T06:48:20.717487",
     "status": "completed"
    },
    "tags": []
   },
   "source": [
    "### **Initialize the glove 300d input txt file and apply the input data**"
   ]
  },
  {
   "cell_type": "code",
   "execution_count": null,
   "id": "dfda9bc8",
   "metadata": {
    "execution": {
     "iopub.execute_input": "2022-04-28T06:48:21.276310Z",
     "iopub.status.busy": "2022-04-28T06:48:21.275719Z",
     "iopub.status.idle": "2022-04-28T06:51:22.880934Z",
     "shell.execute_reply": "2022-04-28T06:51:22.881654Z"
    },
    "papermill": {
     "duration": 181.794901,
     "end_time": "2022-04-28T06:51:22.881910",
     "exception": false,
     "start_time": "2022-04-28T06:48:21.087009",
     "status": "completed"
    },
    "tags": []
   },
   "outputs": [],
   "source": [
    "embedding_vector = {}\n",
    "f = open('../input/glove840b300dtxt/glove.840B.300d.txt')\n",
    "for line in tqdm(f):\n",
    "    value = line.split(' ')\n",
    "    word = value[0]\n",
    "    coef = np.array(value[1:],dtype = 'float32')\n",
    "    embedding_vector[word] = coef"
   ]
  },
  {
   "cell_type": "code",
   "execution_count": null,
   "id": "b2dd56bb",
   "metadata": {
    "execution": {
     "iopub.execute_input": "2022-04-28T06:51:24.533132Z",
     "iopub.status.busy": "2022-04-28T06:51:24.532007Z",
     "iopub.status.idle": "2022-04-28T06:51:24.580162Z",
     "shell.execute_reply": "2022-04-28T06:51:24.580845Z"
    },
    "papermill": {
     "duration": 0.875883,
     "end_time": "2022-04-28T06:51:24.581056",
     "exception": false,
     "start_time": "2022-04-28T06:51:23.705173",
     "status": "completed"
    },
    "tags": []
   },
   "outputs": [],
   "source": [
    "embedding_matrix = np.zeros((vocab_size,300))\n",
    "for word,i in tqdm(token.word_index.items()):\n",
    "    embedding_value = embedding_vector.get(word)\n",
    "    if embedding_value is not None:\n",
    "        embedding_matrix[i] = embedding_value"
   ]
  },
  {
   "cell_type": "markdown",
   "id": "eee6f93e",
   "metadata": {
    "papermill": {
     "duration": 0.773126,
     "end_time": "2022-04-28T06:51:26.187813",
     "exception": false,
     "start_time": "2022-04-28T06:51:25.414687",
     "status": "completed"
    },
    "tags": []
   },
   "source": [
    "### **Build the model**"
   ]
  },
  {
   "cell_type": "code",
   "execution_count": null,
   "id": "81516986",
   "metadata": {
    "execution": {
     "iopub.execute_input": "2022-04-28T06:51:27.651551Z",
     "iopub.status.busy": "2022-04-28T06:51:27.650890Z",
     "iopub.status.idle": "2022-04-28T07:18:33.818891Z",
     "shell.execute_reply": "2022-04-28T07:18:33.819359Z"
    },
    "papermill": {
     "duration": 1626.914987,
     "end_time": "2022-04-28T07:18:33.819552",
     "exception": false,
     "start_time": "2022-04-28T06:51:26.904565",
     "status": "completed"
    },
    "tags": []
   },
   "outputs": [],
   "source": [
    "model = Sequential()\n",
    "model.add(Embedding(vocab_size,300,weights = [embedding_matrix],input_length=300,trainable = False))\n",
    "model.add(Bidirectional(CuDNNLSTM(75)))\n",
    "model.add(Dense(32,activation = 'relu'))\n",
    "model.add(Dense(1))\n",
    "model.compile(loss='mse', optimizer='rmsprop')\n",
    "history = model.fit(pad_seq,y,epochs = 50,batch_size=32)"
   ]
  },
  {
   "cell_type": "markdown",
   "id": "0e29f5ac",
   "metadata": {
    "papermill": {
     "duration": 9.894214,
     "end_time": "2022-04-28T07:18:54.129624",
     "exception": false,
     "start_time": "2022-04-28T07:18:44.235410",
     "status": "completed"
    },
    "tags": []
   },
   "source": [
    "### **Save the model**"
   ]
  },
  {
   "cell_type": "code",
   "execution_count": null,
   "id": "f32674ac",
   "metadata": {
    "execution": {
     "iopub.execute_input": "2022-04-28T07:19:14.379045Z",
     "iopub.status.busy": "2022-04-28T07:19:14.378229Z",
     "iopub.status.idle": "2022-04-28T07:19:14.442765Z",
     "shell.execute_reply": "2022-04-28T07:19:14.442172Z"
    },
    "papermill": {
     "duration": 10.47275,
     "end_time": "2022-04-28T07:19:14.442917",
     "exception": false,
     "start_time": "2022-04-28T07:19:03.970167",
     "status": "completed"
    },
    "tags": []
   },
   "outputs": [],
   "source": [
    "from keras.models import load_model\n",
    "model.save(\"My_Glove_LSTM_Model.h5\")\n",
    "#del model  # deletes the existing model\n",
    "    \n",
    "# returns a compiled model\n",
    "# identical to the previous one\n",
    "#model = load_model('my_model.h5')"
   ]
  },
  {
   "cell_type": "markdown",
   "id": "bf48f82c",
   "metadata": {
    "papermill": {
     "duration": 10.105745,
     "end_time": "2022-04-28T07:19:34.608091",
     "exception": false,
     "start_time": "2022-04-28T07:19:24.502346",
     "status": "completed"
    },
    "tags": []
   },
   "source": [
    "### **Apply testdata and predict** "
   ]
  },
  {
   "cell_type": "code",
   "execution_count": null,
   "id": "91b297ad",
   "metadata": {
    "_kg_hide-input": true,
    "execution": {
     "iopub.execute_input": "2022-04-28T07:19:54.703290Z",
     "iopub.status.busy": "2022-04-28T07:19:54.702581Z",
     "iopub.status.idle": "2022-04-28T07:19:54.729608Z",
     "shell.execute_reply": "2022-04-28T07:19:54.730014Z"
    },
    "papermill": {
     "duration": 9.988879,
     "end_time": "2022-04-28T07:19:54.730185",
     "exception": false,
     "start_time": "2022-04-28T07:19:44.741306",
     "status": "completed"
    },
    "tags": []
   },
   "outputs": [],
   "source": [
    "testing = pd.read_csv('../input/us-patent-phrase-to-phrase-matching/test.csv')\n",
    "sample = pd.read_csv('../input/us-patent-phrase-to-phrase-matching/sample_submission.csv')\n",
    "print('sample_shape',sample.shape)\n",
    "testing.sample(2)\n"
   ]
  },
  {
   "cell_type": "code",
   "execution_count": null,
   "id": "51113feb",
   "metadata": {
    "_kg_hide-input": true,
    "execution": {
     "iopub.execute_input": "2022-04-28T07:20:15.047212Z",
     "iopub.status.busy": "2022-04-28T07:20:15.045497Z",
     "iopub.status.idle": "2022-04-28T07:20:15.047785Z",
     "shell.execute_reply": "2022-04-28T07:20:15.048207Z"
    },
    "papermill": {
     "duration": 10.392907,
     "end_time": "2022-04-28T07:20:15.048354",
     "exception": false,
     "start_time": "2022-04-28T07:20:04.655447",
     "status": "completed"
    },
    "tags": []
   },
   "outputs": [],
   "source": [
    "x_test = testing['target']\n",
    "x_test = token.texts_to_sequences(x_test)\n",
    "testing_seq = pad_sequences(x_test,maxlen=300)"
   ]
  },
  {
   "cell_type": "markdown",
   "id": "34c1fcd4",
   "metadata": {
    "papermill": {
     "duration": 9.814646,
     "end_time": "2022-04-28T07:20:34.814730",
     "exception": false,
     "start_time": "2022-04-28T07:20:25.000084",
     "status": "completed"
    },
    "tags": []
   },
   "source": [
    " ### **Predict output** "
   ]
  },
  {
   "cell_type": "code",
   "execution_count": null,
   "id": "c882deb7",
   "metadata": {
    "execution": {
     "iopub.execute_input": "2022-04-28T07:20:55.057411Z",
     "iopub.status.busy": "2022-04-28T07:20:55.056586Z",
     "iopub.status.idle": "2022-04-28T07:20:55.429346Z",
     "shell.execute_reply": "2022-04-28T07:20:55.429767Z"
    },
    "papermill": {
     "duration": 10.790632,
     "end_time": "2022-04-28T07:20:55.429915",
     "exception": false,
     "start_time": "2022-04-28T07:20:44.639283",
     "status": "completed"
    },
    "tags": []
   },
   "outputs": [],
   "source": [
    "predict = model.predict(testing_seq)\n",
    "testing['label'] = predict\n",
    "testing.head()"
   ]
  },
  {
   "cell_type": "markdown",
   "id": "a0eb4669",
   "metadata": {
    "papermill": {
     "duration": 9.918609,
     "end_time": "2022-04-28T07:21:15.243351",
     "exception": false,
     "start_time": "2022-04-28T07:21:05.324742",
     "status": "completed"
    },
    "tags": []
   },
   "source": [
    "# **Generate Output_Submission CSV file**"
   ]
  },
  {
   "cell_type": "code",
   "execution_count": null,
   "id": "0d5e8cb7",
   "metadata": {
    "execution": {
     "iopub.execute_input": "2022-04-28T07:21:35.704829Z",
     "iopub.status.busy": "2022-04-28T07:21:35.704203Z",
     "iopub.status.idle": "2022-04-28T07:21:35.711971Z",
     "shell.execute_reply": "2022-04-28T07:21:35.712509Z"
    },
    "papermill": {
     "duration": 9.830051,
     "end_time": "2022-04-28T07:21:35.712658",
     "exception": false,
     "start_time": "2022-04-28T07:21:25.882607",
     "status": "completed"
    },
    "tags": []
   },
   "outputs": [],
   "source": [
    "final_predict = testing.label\n",
    "sample['score'] = final_predict\n",
    "sample.to_csv(\"submission.csv\",index=False)\n",
    "print(\"Final achieve to send Glove_Predict output data\")"
   ]
  },
  {
   "cell_type": "code",
   "execution_count": null,
   "id": "06d0842d",
   "metadata": {
    "papermill": {
     "duration": 10.436476,
     "end_time": "2022-04-28T07:21:55.746990",
     "exception": false,
     "start_time": "2022-04-28T07:21:45.310514",
     "status": "completed"
    },
    "tags": []
   },
   "outputs": [],
   "source": []
  },
  {
   "cell_type": "markdown",
   "id": "ae1e59e7",
   "metadata": {
    "papermill": {
     "duration": 9.873544,
     "end_time": "2022-04-28T07:22:55.635878",
     "exception": false,
     "start_time": "2022-04-28T07:22:45.762334",
     "status": "completed"
    },
    "tags": []
   },
   "source": [
    "# ***⭐️⭐️⭐️Thank you for visiting⭐️⭐️⭐️***"
   ]
  }
 ],
 "metadata": {
  "kernelspec": {
   "display_name": "Python 3 (ipykernel)",
   "language": "python",
   "name": "python3"
  },
  "language_info": {
   "codemirror_mode": {
    "name": "ipython",
    "version": 3
   },
   "file_extension": ".py",
   "mimetype": "text/x-python",
   "name": "python",
   "nbconvert_exporter": "python",
   "pygments_lexer": "ipython3",
   "version": "3.9.13"
  },
  "papermill": {
   "default_parameters": {},
   "duration": 2252.134003,
   "end_time": "2022-04-28T07:23:10.106907",
   "environment_variables": {},
   "exception": null,
   "input_path": "__notebook__.ipynb",
   "output_path": "__notebook__.ipynb",
   "parameters": {},
   "start_time": "2022-04-28T06:45:37.972904",
   "version": "2.3.3"
  }
 },
 "nbformat": 4,
 "nbformat_minor": 5
}
